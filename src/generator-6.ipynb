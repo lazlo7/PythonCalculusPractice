{
 "cells": [
  {
   "cell_type": "code",
   "execution_count": 1,
   "metadata": {
    "collapsed": true
   },
   "outputs": [],
   "source": [
    "import operator\n",
    "from typing import Tuple, Callable\n",
    "import sympy as sp\n",
    "from numpy.random import choice\n",
    "from sympy import latex\n",
    "from sympy.abc import x"
   ]
  },
  {
   "cell_type": "code",
   "execution_count": 2,
   "outputs": [],
   "source": [
    "%run document_generator.ipynb"
   ],
   "metadata": {
    "collapsed": false
   }
  },
  {
   "cell_type": "code",
   "execution_count": 3,
   "outputs": [],
   "source": [
    "def random_float_coef():\n",
    "    return sp.S(choice(list(set(range(-3, 4)) - {0}))) / choice([1, 2, 3])\n",
    "\n",
    "\n",
    "def func_generator_decorator(expr: sp.Expr) -> Callable[[], sp.Expr]:\n",
    "    def generate_func() -> sp.Expr:\n",
    "        symbol = list(expr.free_symbols)[0]\n",
    "        return random_float_coef() * expr.subs(symbol, random_float_coef() * symbol)\n",
    "\n",
    "    return generate_func\n",
    "\n",
    "\n",
    "generate_atan = func_generator_decorator(sp.atan(x))\n",
    "\n",
    "\n",
    "def generate_raising_to_negative_int() -> sp.Expr:\n",
    "    return 1 / (random_float_coef() * x + random_float_coef())\n",
    "\n",
    "\n",
    "def generate_polynom() -> sp.Expr:\n",
    "    return sum([\n",
    "        sp.S(choice(list(range(-3, 4)) + i * [0])) / choice([1, 2, 3]) * x ** i for i in range(3)\n",
    "    ])\n",
    "\n",
    "\n",
    "def generate_exponentiation() -> sp.Expr:\n",
    "    return random_float_coef() * sp.exp(choice([-1, 1]) * x)\n",
    "\n",
    "\n",
    "def generate_random_func():\n",
    "    operators = [operator.add, operator.mul]\n",
    "    functions = [generate_raising_to_negative_int, generate_polynom, generate_exponentiation, generate_atan]\n",
    "    func = None\n",
    "    while func is None or func.is_constant() or len(latex(func)) < 20:\n",
    "        random_operator = choice(operators)\n",
    "        func = random_operator(*map(lambda generator: generator(), choice(functions, size=2, replace=False)))\n",
    "    return func"
   ],
   "metadata": {
    "collapsed": false
   }
  },
  {
   "cell_type": "code",
   "execution_count": 4,
   "outputs": [],
   "source": [
    "def sign_of_func_on_the_sides_of_point(func: sp.Expr,\n",
    "                                       point: sp.Expr,\n",
    "                                       left_interval: sp.Interval,\n",
    "                                       right_interval: sp.Interval) -> Tuple[str, str]:\n",
    "    set_where_func_not_defined = sp.Reals - sp.calculus.util.continuous_domain(func, x, sp.Reals)\n",
    "\n",
    "    left_intersection = left_interval.intersect(set_where_func_not_defined)\n",
    "    if left_intersection is sp.EmptySet:\n",
    "        if left_interval.inf == -sp.oo:\n",
    "            left_point = point - 1\n",
    "        else:\n",
    "            left_point = (left_interval.inf + point) / 2\n",
    "    else:\n",
    "        left_point = (left_intersection.sup + point) / 2\n",
    "\n",
    "    right_intersection = right_interval.intersect(set_where_func_not_defined)\n",
    "    if right_intersection is sp.EmptySet:\n",
    "        if right_interval.sup == sp.oo:\n",
    "            right_point = point + 1\n",
    "        else:\n",
    "            right_point = (right_interval.sup + point) / 2\n",
    "    else:\n",
    "        right_point = (right_intersection.inf + point) / 2\n",
    "\n",
    "    return '+' if func.subs(x, left_point) > 0 else '-', '+' if func.subs(x, right_point) > 0 else '-'\n",
    "\n",
    "\n",
    "def solveset_plus_solve(func: sp.Expr) -> list[sp.Expr]:\n",
    "    solveset_roots = sp.solveset(func, x, domain=sp.Reals)\n",
    "    if isinstance(solveset_roots, sp.FiniteSet):\n",
    "        return sorted(solveset_roots.args)\n",
    "    return sorted(filter(lambda root: root.is_real, sp.solve(func, x)))\n",
    "\n",
    "\n",
    "def find_local_minimums(func: sp.Expr) -> list[sp.Expr]:\n",
    "    d_func = func.diff(x)\n",
    "    potential_extremums = solveset_plus_solve(d_func)\n",
    "    if any(map(lambda point: \"LambertW\" in str(point), potential_extremums)):\n",
    "        raise Exception(\"В решении есть функция LambertW\")\n",
    "    if len(potential_extremums) == 0:\n",
    "        return []\n",
    "    potential_extremums_plus_infs = [-sp.oo] + potential_extremums + [sp.oo]\n",
    "    result = []\n",
    "    for i in range(1, len(potential_extremums_plus_infs) - 1):\n",
    "        point = potential_extremums_plus_infs[i]\n",
    "        interval_left_border = potential_extremums_plus_infs[i - 1]\n",
    "        interval_right_border = potential_extremums_plus_infs[i + 1]\n",
    "        if sign_of_func_on_the_sides_of_point(d_func,\n",
    "                                              point,\n",
    "                                              sp.Interval(interval_left_border, point),\n",
    "                                              sp.Interval(point, interval_right_border)) == ('-', '+'):\n",
    "            result.append(point)\n",
    "    return result\n",
    "\n",
    "\n",
    "def find_local_maximums(func: sp.Expr) -> list[sp.Expr]:\n",
    "    d_func = func.diff(x)\n",
    "    potential_extremums = solveset_plus_solve(d_func)\n",
    "    if any(map(lambda point: \"LambertW\" in str(point), potential_extremums)):\n",
    "        raise Exception(\"В решении есть функция LambertW\")\n",
    "    if len(potential_extremums) == 0:\n",
    "        return []\n",
    "    potential_extremums_plus_infs = [-sp.oo] + potential_extremums + [sp.oo]\n",
    "    result = []\n",
    "    for i in range(1, len(potential_extremums_plus_infs) - 1):\n",
    "        point = potential_extremums_plus_infs[i]\n",
    "        interval_left_border = potential_extremums_plus_infs[i - 1]\n",
    "        interval_right_border = potential_extremums_plus_infs[i + 1]\n",
    "        if sign_of_func_on_the_sides_of_point(d_func,\n",
    "                                              point,\n",
    "                                              sp.Interval(interval_left_border, point),\n",
    "                                              sp.Interval(point, interval_right_border)) == ('+', '-'):\n",
    "            result.append(point)\n",
    "    return result\n",
    "\n",
    "\n",
    "def find_inflection_points(func: sp.Expr) -> list[sp.Expr]:\n",
    "    d2_func = func.diff(x, 2)\n",
    "    potential_inflection_points = solveset_plus_solve(d2_func)\n",
    "    if any(map(lambda point: \"LambertW\" in str(point), potential_inflection_points)):\n",
    "        raise Exception(\"В решении есть функция LambertW\")\n",
    "    if len(potential_inflection_points) == 0:\n",
    "        return []\n",
    "    potential_inflection_points_plus_infs = [-sp.oo] + potential_inflection_points + [sp.oo]\n",
    "    result = []\n",
    "    for i in range(1, len(potential_inflection_points_plus_infs) - 1):\n",
    "        point = potential_inflection_points_plus_infs[i]\n",
    "        interval_left_border = potential_inflection_points_plus_infs[i - 1]\n",
    "        interval_right_border = potential_inflection_points_plus_infs[i + 1]\n",
    "        signs = sign_of_func_on_the_sides_of_point(d2_func,\n",
    "                                                   point,\n",
    "                                                   sp.Interval(interval_left_border, point),\n",
    "                                                   sp.Interval(point, interval_right_border))\n",
    "        if signs == ('+', '-') or signs == ('-', '+'):\n",
    "            result.append(point)\n",
    "    return result\n",
    "\n",
    "\n",
    "def find_oblique_asymptotes(func: sp.Expr) -> list[sp.Expr]:\n",
    "    result = set()\n",
    "    for lim in [+sp.oo, -sp.oo]:\n",
    "        k = (func / x).limit(x, lim)\n",
    "        if k != sp.oo and k != -sp.oo:\n",
    "            b = (func - k * x).limit(x, lim)\n",
    "            if b != sp.oo and b != -sp.oo:\n",
    "                result.add(k * x + b)\n",
    "    return list(result)\n",
    "\n",
    "\n",
    "def find_vertical_asymptotes(func: sp.Expr) -> list[sp.Expr]:\n",
    "    set_where_func_not_defined = (sp.Reals - sp.calculus.util.continuous_domain(func, x, sp.Reals)).simplify()\n",
    "    if not isinstance(set_where_func_not_defined, (sp.FiniteSet, sp.Interval)):\n",
    "        raise Exception(\"Не получается проанализировать множество точек, \"\n",
    "                        \"в которых функция не существует, поэтому невозможно найти асимптоты\")\n",
    "    result = []\n",
    "\n",
    "    def is_asymptote(number: sp.Expr) -> bool:\n",
    "        limit_plus = func.limit(x, set_of_numbers, '+')\n",
    "        limit_minus = func.limit(x, set_of_numbers, '-')\n",
    "        if limit_plus == sp.oo or limit_plus == -sp.oo or limit_minus == sp.oo or limit_minus == -sp.oo:\n",
    "            return True\n",
    "        return False\n",
    "\n",
    "    for set_of_numbers in set_where_func_not_defined.args:\n",
    "        if isinstance(set_of_numbers, sp.Expr):\n",
    "            if is_asymptote(set_of_numbers):\n",
    "                result.append(set_of_numbers)\n",
    "        elif isinstance(set_of_numbers, sp.FiniteSet):\n",
    "            for number in set_of_numbers.args:\n",
    "                if is_asymptote(number):\n",
    "                    result.append(number)\n",
    "        else:\n",
    "            raise Exception(\"Не получается проанализировать множество точек, \"\n",
    "                            \"в которых функция не существует, поэтому невозможно найти асимптоты\")\n",
    "    return result"
   ],
   "metadata": {
    "collapsed": false
   }
  },
  {
   "cell_type": "code",
   "execution_count": 5,
   "outputs": [],
   "source": [
    "DESCRIPTION = \"Исследовать функцию f(x) с помощью производной, найти необходимые пределы и решить уравнения. Построить график функции и асимптот (если есть), отметить и подписать точки экстремума и точки перегиба (если есть), включить функцию и асимптоты (если есть) в легенду.\""
   ],
   "metadata": {
    "collapsed": false
   }
  },
  {
   "cell_type": "code",
   "execution_count": 6,
   "outputs": [],
   "source": [
    "def task_condition(func: sp.Expr) -> str:\n",
    "    return f\"\\n\\n$$f(x) = {latex(func)}$$\""
   ],
   "metadata": {
    "collapsed": false
   }
  },
  {
   "cell_type": "code",
   "execution_count": 7,
   "outputs": [],
   "source": [
    "def solve_task(func: sp.Expr) -> str:\n",
    "    def to_latex(info: list[sp.Expr], lambda_func: Callable[[sp.Expr], str] = latex):\n",
    "        return f\"${', '.join(map(lambda_func, info))}$\" if len(info) != 0 else \"нет\"\n",
    "\n",
    "    return f\"\\n\\nФункция: $f(x) = {latex(func)}$\\n\\n\" \\\n",
    "           f\"Локальные максимумы в точках: {to_latex(find_local_maximums(func))}\\n\\n\" \\\n",
    "           f\"Локальные минимумы в точках: {to_latex(find_local_minimums(func))}\\n\\n\" \\\n",
    "           f\"Точки перегиба: {to_latex(find_inflection_points(func))}\\n\\n\" \\\n",
    "           f\"Вертикальные асимптоты: {to_latex(find_vertical_asymptotes(func), lambda asymptote: f'x = {latex(asymptote)}')}\\n\\n\" \\\n",
    "           f\"Наклонные асимптоты: {to_latex(find_oblique_asymptotes(func), lambda asymptote: f'y = {latex(asymptote)}')}\""
   ],
   "metadata": {
    "collapsed": false
   }
  },
  {
   "cell_type": "code",
   "execution_count": 8,
   "outputs": [],
   "source": [
    "def generate_task_and_answer(option: int) -> Tuple[str, str]:\n",
    "    while True:\n",
    "        try:\n",
    "            func = generate_random_func().simplify()\n",
    "            solution = solve_task(func)\n",
    "            if len(solution) > 300:\n",
    "                continue\n",
    "            return task_condition(func), solution\n",
    "        except:\n",
    "            pass"
   ],
   "metadata": {
    "collapsed": false
   }
  },
  {
   "cell_type": "code",
   "execution_count": 9,
   "outputs": [],
   "source": [
    "doc = DocumentGenerator(generate_task_and_answer, DESCRIPTION)"
   ],
   "metadata": {
    "collapsed": false
   }
  },
  {
   "cell_type": "code",
   "execution_count": 10,
   "outputs": [],
   "source": [
    "write_tasks_and_solutions(doc, \"../out/tasks/task-6.tex\", \"../out/answers/answer-6.tex\", 150)"
   ],
   "metadata": {
    "collapsed": false
   }
  }
 ],
 "metadata": {
  "kernelspec": {
   "display_name": "Python 3",
   "language": "python",
   "name": "python3"
  },
  "language_info": {
   "codemirror_mode": {
    "name": "ipython",
    "version": 2
   },
   "file_extension": ".py",
   "mimetype": "text/x-python",
   "name": "python",
   "nbconvert_exporter": "python",
   "pygments_lexer": "ipython2",
   "version": "2.7.6"
  }
 },
 "nbformat": 4,
 "nbformat_minor": 0
}
