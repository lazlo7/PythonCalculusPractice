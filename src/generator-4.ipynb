{
 "cells": [
  {
   "cell_type": "code",
   "execution_count": 1,
   "metadata": {
    "collapsed": true
   },
   "outputs": [],
   "source": [
    "%run document_generator.ipynb"
   ]
  },
  {
   "cell_type": "code",
   "execution_count": 2,
   "outputs": [],
   "source": [
    "import os\n",
    "from dataclasses import dataclass\n",
    "from random import randint\n",
    "from typing import Iterable, Callable, Tuple\n",
    "\n",
    "import numpy as np\n",
    "import sympy as sp\n",
    "from matplotlib import pyplot as plt\n",
    "from numpy.random import choice\n",
    "from sympy import latex\n",
    "import matplotlib"
   ],
   "metadata": {
    "collapsed": false
   }
  },
  {
   "cell_type": "code",
   "execution_count": 3,
   "outputs": [],
   "source": [
    "matplotlib.use('Agg')"
   ],
   "metadata": {
    "collapsed": false
   }
  },
  {
   "cell_type": "code",
   "execution_count": 4,
   "outputs": [],
   "source": [
    "def latex_image(path: str) -> str:\n",
    "    return r\"\"\"\\begin{figure}[H]\n",
    "    \\centering\n",
    "    \\includegraphics[width=0.5\\textwidth]{%s}\n",
    "    \\label{fig:figure}\n",
    "\\end{figure}\"\"\" % path"
   ],
   "metadata": {
    "collapsed": false
   }
  },
  {
   "cell_type": "code",
   "execution_count": 5,
   "outputs": [],
   "source": [
    "@dataclass\n",
    "class MyFunc:\n",
    "    sympy_version: Callable[[sp.Expr], sp.Expr]\n",
    "    numpy_version: Callable[[np.array], np.array]\n",
    "\n",
    "\n",
    "def random_float_coef():\n",
    "    return sp.S(choice(list(set(range(-3, 4)) - {0}))) / choice([1, 2, 3])\n",
    "\n",
    "\n",
    "def simple_func_generator(sympy_version: Callable[[sp.Expr], sp.Expr],\n",
    "                          numpy_version: Callable[[np.array], np.array]) -> Callable[[], MyFunc]:\n",
    "    def generate():\n",
    "        coef1 = random_float_coef()\n",
    "        coef2 = random_float_coef()\n",
    "        return MyFunc(\n",
    "            lambda symbol: coef1 * sympy_version(coef2 * symbol),\n",
    "            lambda arr: float(coef1) * numpy_version(float(coef2) * arr)\n",
    "        )\n",
    "\n",
    "    return generate\n",
    "\n",
    "\n",
    "generate_sin = simple_func_generator(sp.sin, np.sin)\n",
    "generate_cos = simple_func_generator(sp.cos, np.cos)\n",
    "generate_exp = simple_func_generator(sp.exp, np.exp)\n",
    "\n",
    "\n",
    "def generate_polynom() -> MyFunc:\n",
    "    coefs = np.array([sp.S(choice(list(range(-3, 4)) + i * [0])) / choice([1, 2, 3]) for i in range(4)])\n",
    "    float_coefs = list(map(float, coefs))\n",
    "    return MyFunc(\n",
    "        lambda symbol: (coefs * np.array([symbol ** i for i in range(4)])).sum(),\n",
    "        lambda arr: float_coefs[0] +\n",
    "                    float_coefs[1] * arr +\n",
    "                    float_coefs[2] * arr ** 2 +\n",
    "                    float_coefs[3] * arr ** 3\n",
    "    )\n",
    "\n",
    "\n",
    "def generate_raising_arg_to_deg() -> MyFunc:\n",
    "    coef1 = random_float_coef()\n",
    "    coef2 = sp.S(choice([2, 3, 5])) / choice([1, 2, 4])\n",
    "    if coef2 == 1:\n",
    "        coef2 = 2\n",
    "    return MyFunc(\n",
    "        lambda symbol: coef1 * coef2 ** symbol,\n",
    "        lambda arr: float(coef1) * float(coef2) ** arr\n",
    "    )"
   ],
   "metadata": {
    "collapsed": false
   }
  },
  {
   "cell_type": "code",
   "execution_count": 6,
   "outputs": [],
   "source": [
    "def add(x, y):\n",
    "    return lambda arg: x(arg) + y(arg)\n",
    "\n",
    "\n",
    "def mul(x, y):\n",
    "    return lambda arg: x(arg) * y(arg)\n",
    "\n",
    "\n",
    "def aggregate(x, y):\n",
    "    return lambda arg: x(y(arg))\n",
    "\n",
    "\n",
    "def generate_func() -> MyFunc:\n",
    "    operators = [add, mul, aggregate]\n",
    "    generators = [generate_cos, generate_sin, generate_exp, generate_polynom, generate_raising_arg_to_deg]\n",
    "    func1, func2 = map(lambda gen: gen(), choice(generators, 2, replace=False))\n",
    "    operator = choice(operators)\n",
    "    return MyFunc(\n",
    "        operator(func1.sympy_version, func2.sympy_version),\n",
    "        operator(func1.numpy_version, func2.numpy_version)\n",
    "    )"
   ],
   "metadata": {
    "collapsed": false
   }
  },
  {
   "cell_type": "code",
   "execution_count": 7,
   "outputs": [],
   "source": [
    "DESCRIPTION = \"Построить в одной координатной плоскости графики функций.\"\n",
    "\n",
    "OUT_ANSWER_PATH = \"../out/answers/answer4/\""
   ],
   "metadata": {
    "collapsed": false
   }
  },
  {
   "cell_type": "code",
   "execution_count": 8,
   "outputs": [],
   "source": [
    "def task_condition(func1: sp.Expr,\n",
    "                   func2: sp.Expr,\n",
    "                   left_border: sp.core.numbers.Number, right_border: sp.core.numbers.Number,\n",
    "                   color1: str, line_type1: str,\n",
    "                   color2: str, line_type2: str,\n",
    "                   mark_step: sp.core.numbers.Number,\n",
    "                   vertical_marks: Iterable[int]):\n",
    "    return '\\n\\n' + rf\"Построить в одной координатной плоскости графики функций $$f(x) = {latex(func1)}$$ $$g(x) = {latex(func2)}$$ на отрезке $\\left[{latex(left_border)}, \\  {latex(right_border)}\\right]$, $f(x)$ {color1} {line_type1}, $g(x)$ {color2} {line_type2}. Отметки на горизонтальной оси от ${latex(left_border)}$ до ${latex(right_border)}$ с шагом ${latex(mark_step)}$, отметки подписать формулами как в Примере 3. По вертикальной оси отметки ${'$, $'.join(map(str, vertical_marks))}$.\""
   ],
   "metadata": {
    "collapsed": false
   }
  },
  {
   "cell_type": "code",
   "execution_count": 28,
   "outputs": [],
   "source": [
    "def solve_task(option: int,\n",
    "               func1: Callable[[np.array], np.array],\n",
    "               func2: Callable[[np.array], np.array],\n",
    "               left_border: sp.core.numbers.Number, right_border: sp.core.numbers.Number,\n",
    "               color1: str, line_type1: str,\n",
    "               color2: str, line_type2: str,\n",
    "               mark_step: sp.core.numbers.Number,\n",
    "               step_count: int,\n",
    "               vertical_marks: Iterable[int]) -> str:\n",
    "    x = np.linspace(float(left_border), float(right_border))\n",
    "    y1 = func1(x)\n",
    "    y2 = func2(x)\n",
    "    fig, ax = plt.subplots()\n",
    "    ax.set(xlim=[float(left_border), float(right_border)],\n",
    "           ylim=[min(min(vertical_marks), y1.min(), y2.min()) - 1,\n",
    "                 max(max(vertical_marks), y1.max(), y2.max()) + 1],\n",
    "           xticks=[float(left_border) + i * float(mark_step) for i in range(step_count + 1)],\n",
    "           xticklabels=\n",
    "           [f\"${latex(left_border + i * mark_step)}$\" for i in range(step_count + 1)],\n",
    "           yticks=vertical_marks)\n",
    "    ax.plot(x, y1, color=color1, linestyle=line_type1)\n",
    "    ax.plot(x, y2, color=color2, linestyle=line_type2)\n",
    "    os.makedirs(os.path.dirname(OUT_ANSWER_PATH), exist_ok=True)\n",
    "    fig.tight_layout()\n",
    "    fig.savefig(OUT_ANSWER_PATH + str(option), bbox_inches='tight')\n",
    "    return latex_image(OUT_ANSWER_PATH + str(option) + \".png\")"
   ],
   "metadata": {
    "collapsed": false
   }
  },
  {
   "cell_type": "code",
   "execution_count": 29,
   "outputs": [],
   "source": [
    "@dataclass\n",
    "class Color:\n",
    "    human_version: str\n",
    "    plot_version: str\n",
    "\n",
    "\n",
    "@dataclass\n",
    "class LineType:\n",
    "    human_version: str\n",
    "    plot_version: str"
   ],
   "metadata": {
    "collapsed": false
   }
  },
  {
   "cell_type": "code",
   "execution_count": 30,
   "outputs": [],
   "source": [
    "def generate_task_and_answer(option: int) -> Tuple[str, str]:\n",
    "    def random_float_coef():\n",
    "        return sp.S(choice(list(set(range(-5, 3)) - {0}))) / choice([1, 2, 3, 4, 6])\n",
    "\n",
    "    left_border = random_float_coef()\n",
    "    mark_step = abs(random_float_coef())\n",
    "    step_count = randint(2, 4)\n",
    "    right_border = left_border + step_count * mark_step\n",
    "    borders_multiplier = choice([sp.pi, sp.E, 1, 1, 1, 1])\n",
    "    left_border *= borders_multiplier\n",
    "    right_border *= borders_multiplier\n",
    "    mark_step *= borders_multiplier\n",
    "    color1, color2 = choice([\n",
    "        Color(\"зеленая\", \"green\"),\n",
    "        Color(\"синяя\", \"blue\"),\n",
    "        Color(\"черная\", \"black\"),\n",
    "        Color(\"желтая\", \"yellow\"),\n",
    "        Color(\"фиолетовая\", \"magenta\")\n",
    "    ], size=2, replace=False)\n",
    "    line_type1, line_type2 = choice([\n",
    "        LineType(\"линия из точек\", \"dotted\"),\n",
    "        LineType(\"пунктирная линия\", \"dashed\"),\n",
    "        LineType(\"сплошная линия\", \"solid\"),\n",
    "    ], size=2)\n",
    "\n",
    "    bad_functions = True\n",
    "    x = sp.Symbol('x')\n",
    "    func1 = None\n",
    "    func2 = None\n",
    "    vertical_marks = None\n",
    "    while bad_functions:\n",
    "        func1, func2 = generate_func(), generate_func()\n",
    "\n",
    "        x_linspace = np.linspace(float(left_border), float(right_border))\n",
    "        func1_linspace = func1.numpy_version(x_linspace)\n",
    "        func2_linspace = func2.numpy_version(x_linspace)\n",
    "\n",
    "        func1_min, func1_max = func1_linspace.min(), func1_linspace.max()\n",
    "        func2_min, func2_max = func2_linspace.min(), func2_linspace.max()\n",
    "\n",
    "        if abs(func1_min - func2_min) > 120 or abs(func1_max - func2_max) > 120:\n",
    "            continue\n",
    "\n",
    "        if (func1_max - func1_min) / (func2_max - func2_min) > 3:\n",
    "            continue\n",
    "\n",
    "        try:\n",
    "            vertical_marks = sorted(set([randint(min(int(func1_min), int(func2_min) + 1),\n",
    "                                                 max(int(func1_max), int(func2_max) - 1)) for _ in range(5)]))\n",
    "        except ValueError:\n",
    "            continue\n",
    "\n",
    "        if len(vertical_marks) < 3:\n",
    "            continue\n",
    "\n",
    "        if abs(max(vertical_marks)) > 100 or abs(min(vertical_marks)) > 100:\n",
    "            continue\n",
    "        bad_functions = False\n",
    "\n",
    "    return (\n",
    "        task_condition(func1.sympy_version(x),\n",
    "                       func2.sympy_version(x),\n",
    "                       left_border, right_border,\n",
    "                       color1.human_version, line_type1.human_version,\n",
    "                       color2.human_version, line_type2.human_version,\n",
    "                       mark_step,\n",
    "                       vertical_marks),\n",
    "        solve_task(option,\n",
    "                   func1.numpy_version,\n",
    "                   func2.numpy_version,\n",
    "                   left_border, right_border,\n",
    "                   color1.plot_version, line_type1.plot_version,\n",
    "                   color2.plot_version, line_type2.plot_version,\n",
    "                   mark_step,\n",
    "                   step_count,\n",
    "                   vertical_marks)\n",
    "    )"
   ],
   "metadata": {
    "collapsed": false
   }
  },
  {
   "cell_type": "code",
   "execution_count": 31,
   "outputs": [],
   "source": [
    "doc = DocumentGenerator(generate_task_and_answer, DESCRIPTION)"
   ],
   "metadata": {
    "collapsed": false
   }
  },
  {
   "cell_type": "code",
   "execution_count": 32,
   "outputs": [
    {
     "name": "stderr",
     "output_type": "stream",
     "text": [
      "C:\\Users\\User\\AppData\\Local\\Temp\\ipykernel_5080\\1397299098.py:18: RuntimeWarning: overflow encountered in exp\n",
      "  lambda arr: float(coef1) * numpy_version(float(coef2) * arr)\n",
      "C:\\Users\\User\\AppData\\Local\\Temp\\ipykernel_5080\\674450038.py:44: RuntimeWarning: divide by zero encountered in scalar divide\n",
      "  if (func1_max - func1_min) / (func2_max - func2_min) > 3:\n",
      "C:\\Users\\User\\AppData\\Local\\Temp\\ipykernel_5080\\1397299098.py:48: RuntimeWarning: overflow encountered in power\n",
      "  lambda arr: float(coef1) * float(coef2) ** arr\n"
     ]
    }
   ],
   "source": [
    "write_tasks_and_solutions(doc, \"../out/tasks/task-4.tex\", OUT_ANSWER_PATH + \"answer-4.tex\", 150)"
   ],
   "metadata": {
    "collapsed": false
   }
  },
  {
   "cell_type": "code",
   "execution_count": 83,
   "outputs": [],
   "source": [],
   "metadata": {
    "collapsed": false
   }
  }
 ],
 "metadata": {
  "kernelspec": {
   "display_name": "Python 3",
   "language": "python",
   "name": "python3"
  },
  "language_info": {
   "codemirror_mode": {
    "name": "ipython",
    "version": 2
   },
   "file_extension": ".py",
   "mimetype": "text/x-python",
   "name": "python",
   "nbconvert_exporter": "python",
   "pygments_lexer": "ipython2",
   "version": "2.7.6"
  }
 },
 "nbformat": 4,
 "nbformat_minor": 0
}
