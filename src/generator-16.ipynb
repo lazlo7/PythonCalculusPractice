{
 "cells": [
  {
   "cell_type": "code",
   "execution_count": 1,
   "metadata": {
    "collapsed": true
   },
   "outputs": [],
   "source": [
    "from random import randint, choices\n",
    "from typing import Tuple\n",
    "import matplotlib\n",
    "import sympy as sp\n",
    "from numpy.random import choice\n",
    "from sympy import latex\n",
    "from sympy.abc import x, y, z"
   ]
  },
  {
   "cell_type": "code",
   "execution_count": 2,
   "outputs": [],
   "source": [
    "matplotlib.use(\"Agg\")"
   ],
   "metadata": {
    "collapsed": false
   }
  },
  {
   "cell_type": "code",
   "execution_count": 3,
   "outputs": [],
   "source": [
    "%run document_generator.ipynb"
   ],
   "metadata": {
    "collapsed": false
   }
  },
  {
   "cell_type": "code",
   "execution_count": 4,
   "outputs": [],
   "source": [
    "def latex_image(path: str) -> str:\n",
    "    return r\"\"\"\\begin{figure}[H]\n",
    "    \\centering\n",
    "    \\includegraphics[width=0.5\\textwidth]{%s}\n",
    "    \\label{fig:figure}\n",
    "\\end{figure}\"\"\" % path"
   ],
   "metadata": {
    "collapsed": false
   }
  },
  {
   "cell_type": "code",
   "execution_count": 5,
   "outputs": [],
   "source": [
    "def random_float_coef():\n",
    "    return sp.S(choice(list(set(range(-3, 4)) - {0}))) / choice([1, 2, 3, 5])\n",
    "\n",
    "\n",
    "def generate_random_surface() -> sp.Expr:\n",
    "    surface = None\n",
    "    while surface is None or len(surface.free_symbols) < 3:\n",
    "        surface = sum([random_float_coef() * item\n",
    "                       for item in choice([x ** 2, y ** 2, z ** 2, x * y, x * z, y * z, x, y, z, 1],\n",
    "                                          size=choices([3, 4, 5, 6], weights=[2, 6, 1, 1])[0],\n",
    "                                          replace=False)])\n",
    "    return surface\n",
    "\n",
    "\n",
    "def generate_point_on_surface(surface: sp.Expr) -> sp.Point3D:\n",
    "    random_x = randint(-3, 3)\n",
    "    random_y = randint(-3, 3)\n",
    "    surface_eq_in_x_y_point = surface.subs({x: random_x, y: random_y})\n",
    "    z_in_x_y_point = sp.solveset(sp.Eq(surface_eq_in_x_y_point, 0), z, sp.Reals).args[0]\n",
    "    return sp.Point3D(random_x, random_y, z_in_x_y_point)"
   ],
   "metadata": {
    "collapsed": false
   }
  },
  {
   "cell_type": "code",
   "execution_count": 6,
   "outputs": [],
   "source": [
    "DESCRIPTION = \"Дана поверхность. Составить уравнение касательной плоскости и нормали в данной точке. Изобразить на графике поверхность и касательную плоскость\"\n",
    "\n",
    "OUT_ANSWER_PATH = \"../out/answers/answer16/\""
   ],
   "metadata": {
    "collapsed": false
   }
  },
  {
   "cell_type": "code",
   "execution_count": 7,
   "outputs": [],
   "source": [
    "def task_condition(surface: sp.Expr, point: sp.Point3D) -> str:\n",
    "    return f\"\\n\\n${latex(surface)} = 0$,\\\\ \\\\ \\\\ точка\\\\ $({latex(point.x)}, {latex(point.y)}, {latex(point.z)})$\""
   ],
   "metadata": {
    "collapsed": false
   }
  },
  {
   "cell_type": "code",
   "execution_count": 8,
   "outputs": [],
   "source": [
    "def solve_task(option: int, surface: sp.Expr, point: sp.Point3D) -> str:\n",
    "    point_for_subs = {x: point.x, y: point.y, z: point.z}\n",
    "    surface_dx_in_point, surface_dy_in_point, surface_dz_in_point = [surface\n",
    "                                                                     .diff(var)\n",
    "                                                                     .subs(point_for_subs)\n",
    "                                                                     .simplify()\n",
    "                                                                     for var in (x, y, z)]\n",
    "    tangent_plane = (surface_dx_in_point * (x - point.x) +\n",
    "                     surface_dy_in_point * (y - point.y) +\n",
    "                     surface_dz_in_point * (z - point.z)).simplify()\n",
    "    normal_line = sp.Eq(\n",
    "        (x - point.x) / surface_dx_in_point,\n",
    "        sp.Eq(\n",
    "            (y - point.y) / surface_dy_in_point,\n",
    "            (z - point.z) / surface_dz_in_point,\n",
    "            evaluate=False),\n",
    "        evaluate=False)\n",
    "    graph = sp.plotting.plot3d(sp.solve(surface, z)[0], sp.solve(tangent_plane, z)[0], show=False)\n",
    "    graph.save(OUT_ANSWER_PATH + str(option))\n",
    "    return f\"\\n\\nУравнение касательной плоскости:\\n\\n\" \\\n",
    "           f\"$${latex(tangent_plane)} = 0$$\\n\\n\" \\\n",
    "           f\"Уравнение нормали:\\n\\n\" \\\n",
    "           f\"$${latex(normal_line)}$$\\n\\n\" \\\n",
    "           f\"{latex_image(OUT_ANSWER_PATH + str(option) + '.png')}\""
   ],
   "metadata": {
    "collapsed": false
   }
  },
  {
   "cell_type": "code",
   "execution_count": 9,
   "outputs": [],
   "source": [
    "def generate_task_and_answer(option: int) -> Tuple[str, str]:\n",
    "    while True:\n",
    "        try:\n",
    "            surface = generate_random_surface()\n",
    "            point = generate_point_on_surface(surface)\n",
    "            return task_condition(surface, point), solve_task(option, surface, point)\n",
    "        except IndexError:\n",
    "            pass\n",
    "        except Exception as e:\n",
    "            print(e)"
   ],
   "metadata": {
    "collapsed": false
   }
  },
  {
   "cell_type": "code",
   "execution_count": 10,
   "outputs": [],
   "source": [
    "doc = DocumentGenerator(generate_task_and_answer, DESCRIPTION)"
   ],
   "metadata": {
    "collapsed": false
   }
  },
  {
   "cell_type": "code",
   "execution_count": null,
   "outputs": [],
   "source": [
    "write_tasks_and_solutions(doc, \"../out/tasks/task-16.tex\", OUT_ANSWER_PATH + \"answer-16.tex\", 150)"
   ],
   "metadata": {
    "collapsed": false
   }
  }
 ],
 "metadata": {
  "kernelspec": {
   "display_name": "Python 3",
   "language": "python",
   "name": "python3"
  },
  "language_info": {
   "codemirror_mode": {
    "name": "ipython",
    "version": 2
   },
   "file_extension": ".py",
   "mimetype": "text/x-python",
   "name": "python",
   "nbconvert_exporter": "python",
   "pygments_lexer": "ipython2",
   "version": "2.7.6"
  }
 },
 "nbformat": 4,
 "nbformat_minor": 0
}
