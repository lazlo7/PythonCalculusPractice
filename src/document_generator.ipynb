{
 "cells": [
  {
   "cell_type": "code",
   "execution_count": 1,
   "metadata": {},
   "outputs": [],
   "source": [
    "from typing import Callable\n",
    "from collections.abc import Generator"
   ]
  },
  {
   "cell_type": "code",
   "execution_count": 2,
   "metadata": {},
   "outputs": [],
   "source": [
    "class DocumentGenerator:\n",
    "    DEFAULT_HEADER: str = r\"\"\"\\documentclass[11pt]{report}\n",
    "\\usepackage[T2A]{fontenc}\n",
    "\\usepackage[utf8]{inputenc}\n",
    "\\usepackage[russian]{babel}\n",
    "\\usepackage{amsmath,amssymb}\n",
    "\\usepackage{graphicx}\n",
    "\\oddsidemargin=-19mm\n",
    "\\topmargin=-30mm\n",
    "\\textheight 26cm\n",
    "\\hsize 18cm\n",
    "\\textwidth 20cm\n",
    "\\begin{document}\n",
    "\n",
    "\\pagestyle{empty}\"\"\"\n",
    "\n",
    "    DEFAULT_BORDER: str = r\"\"\"\\begin{center}\n",
    "\\noindent\\rule{8cm}{0.4pt}\n",
    "\\end{center}\"\"\"\n",
    "\n",
    "    def __init__(self, \n",
    "                 variant_generator: Callable[[int], tuple[str, str]], \n",
    "                 description: str,\n",
    "                 header: str = DEFAULT_HEADER, \n",
    "                 border: str = DEFAULT_BORDER,\n",
    "                 title: str = \"Индивидуальное задание.\",\n",
    "                 variant_enumerator: Callable[[int], str] = lambda variant_n: f\"Вариант ${variant_n}$\"):\n",
    "        self.variant_generator = variant_generator\n",
    "        self.description = description\n",
    "        self.header = header\n",
    "        self.border = border\n",
    "        self.title = title\n",
    "        self.variant_enumerator = variant_enumerator\n",
    "\n",
    "    def generate(self, variant_count: int) -> Generator[tuple[str, str]]:\n",
    "        def line(task: str = \"\", solution: str = None) -> tuple[str, str]:\n",
    "            if solution is None:\n",
    "                solution = task\n",
    "            return task + \"\\n\", solution + \"\\n\"\n",
    "\n",
    "        yield line(self.header)\n",
    "        yield line(r\"{\\bf \" + self.title + \"}\")\n",
    "        yield line()\n",
    "        yield line(self.description)\n",
    "        yield line()\n",
    "        \n",
    "        for variant_n in range(variant_count):\n",
    "            yield line(self.border)\n",
    "            yield line(self.variant_enumerator(variant_n))\n",
    "            yield line(*self.variant_generator(variant_n))\n",
    "\n",
    "        yield line()\n",
    "        yield line(r\"\\end{document}\")"
   ]
  }
 ],
 "metadata": {
  "kernelspec": {
   "display_name": ".venv",
   "language": "python",
   "name": "python3"
  },
  "language_info": {
   "codemirror_mode": {
    "name": "ipython",
    "version": 3
   },
   "file_extension": ".py",
   "mimetype": "text/x-python",
   "name": "python",
   "nbconvert_exporter": "python",
   "pygments_lexer": "ipython3",
   "version": "3.11.3"
  },
  "orig_nbformat": 4
 },
 "nbformat": 4,
 "nbformat_minor": 2
}
