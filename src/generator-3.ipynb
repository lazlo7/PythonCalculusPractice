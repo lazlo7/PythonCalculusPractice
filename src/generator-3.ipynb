{
 "cells": [
  {
   "cell_type": "markdown",
   "metadata": {},
   "source": [
    "### Индивидуальное задание.\n",
    "\n",
    "#### Через все точки пересечения графиков функций f(x) и g(x) провести горизонтальные прямые. Изобразить на графике f(x) зеленым цветом, g(x) красным, горизонтальные линии черным. Формулы для f(x) и g(x) включить в легенду (например, как f(x) = 3x^2 + 5x − 7)."
   ]
  },
  {
   "cell_type": "code",
   "execution_count": 11,
   "metadata": {},
   "outputs": [],
   "source": [
    "import numpy as np\n",
    "import sympy as sp\n",
    "from sympy.abc import x\n",
    "import matplotlib.pyplot as plt\n",
    "import os\n",
    "%matplotlib inline                     "
   ]
  },
  {
   "cell_type": "code",
   "execution_count": 12,
   "metadata": {},
   "outputs": [],
   "source": [
    "%run document_generator.ipynb"
   ]
  },
  {
   "cell_type": "code",
   "execution_count": 31,
   "metadata": {},
   "outputs": [],
   "source": [
    "\"\"\"\n",
    "Returns two \"nearby placed\" functions and two points, at which each function intersect other.\n",
    "\"\"\"\n",
    "def generate_functions() -> tuple[sp.Function, sp.Function, sp.Point2D, sp.Point2D]:\n",
    "    def coef(hi, lo = 1):\n",
    "        return sp.sympify(np.random.choice([-1, 1]) * np.random.randint(lo, hi + 1))\n",
    "\n",
    "    while True:\n",
    "        a = coef(3) / coef(2)\n",
    "        b = coef(6, 0) / coef(2)\n",
    "        f = a*x**2 + b*x + coef(10, 0) / coef(2)\n",
    "        \n",
    "        x_mid = -b / (2 * a)\n",
    "        x1 = x_mid - np.random.randint(1, 3) \n",
    "        x2 = x_mid + np.random.randint(1, 3)\n",
    "\n",
    "        y1 = f.subs({x: x1})\n",
    "        y2 = f.subs({x: x2})\n",
    "\n",
    "        # Disallow similar heights\n",
    "        if y1 - y2 < 1:\n",
    "            continue\n",
    "\n",
    "        solutions = sp.linsolve((sp.Matrix([[x1**2, x1, 1], [x2**2, x2, 1]]), sp.Matrix([y1, y2]))).args\n",
    "        assert len(solutions) > 0, \"No solutions found\"\n",
    "\n",
    "        a, b, c = solutions[0]\n",
    "        free = c if isinstance(c, sp.Symbol) else (b if b != isinstance(b, sp.Symbol) else a)\n",
    "\n",
    "        substitute = np.random.randint(-10, 11)\n",
    "        a = a.subs({free: substitute})\n",
    "        if a == 0:\n",
    "            continue \n",
    "\n",
    "        b = b.subs({free: substitute})\n",
    "        c = c.subs({free: substitute})\n",
    "\n",
    "        g = a*x**2 + b*x + c\n",
    "        if f == g:\n",
    "            continue\n",
    "\n",
    "        f, g = np.random.permutation([f, g])\n",
    "\n",
    "        if np.random.randint(2) == 0:\n",
    "            f = sp.factor(f)\n",
    "\n",
    "        if np.random.randint(2) == 0:\n",
    "            g = sp.factor(g)\n",
    "\n",
    "        return f, g, sp.Point2D(x1, y1), sp.Point(x2, y2)"
   ]
  },
  {
   "cell_type": "code",
   "execution_count": 14,
   "metadata": {},
   "outputs": [],
   "source": [
    "PICS_PATH = \"../out/answers/answer3/\""
   ]
  },
  {
   "cell_type": "code",
   "execution_count": 29,
   "metadata": {},
   "outputs": [],
   "source": [
    "def create_plot(f: sp.Function, \n",
    "                g: sp.Function,\n",
    "                p1: sp.Point2D,\n",
    "                p2: sp.Point2D, \n",
    "                name: str):\n",
    "    def plot(f, line_color: str, label: str = \"\"):\n",
    "        return sp.plot(f,\n",
    "                       xlim=x_limits,\n",
    "                       ylim=y_limits, \n",
    "                       show=False, \n",
    "                       legend=True, \n",
    "                       line_color=line_color,\n",
    "                       grid=True,\n",
    "                       label=label)\n",
    "\n",
    "    x_limits = (sp.Min(p1[0], p2[0]) - 3, sp.Max(p1[0], p2[0]) + 3)\n",
    "    y_limits = (sp.Min(p1[1], p2[1]) - 3, sp.Max(p1[1], p2[1]) + 3)\n",
    "\n",
    "    p = plot(f, \"green\", f\"$f(x) = {sp.latex(f)}$\")\n",
    "    p.extend(plot(g, \"red\", f\"$g(x) = {sp.latex(g)}$\"))\n",
    "    p.extend(plot(p1[1], \"black\"))\n",
    "    p.extend(plot(p2[1], \"black\"))\n",
    "\n",
    "    os.makedirs(os.path.dirname(PICS_PATH), exist_ok=True)\n",
    "    p.save(PICS_PATH + name)\n",
    "    \n",
    "    # Close backend matplotlib plot to save on resources.\n",
    "    plt.close(\"all\")"
   ]
  },
  {
   "cell_type": "code",
   "execution_count": 16,
   "metadata": {},
   "outputs": [],
   "source": [
    "HEADER = f\"\"\"\\\\documentclass[11pt]{{report}}\n",
    "\\\\usepackage[T2A]{{fontenc}}\n",
    "\\\\usepackage[utf8]{{inputenc}}\n",
    "\\\\usepackage[russian]{{babel}}\n",
    "\\\\usepackage{{amsmath,amssymb}}\n",
    "\\\\usepackage{{graphicx}}\n",
    "\\\\oddsidemargin=-19mm\n",
    "\\\\topmargin=-30mm\n",
    "\\\\textheight 26cm\n",
    "\\\\hsize 18cm\n",
    "\\\\textwidth 20cm\n",
    "\n",
    "\\\\begin{{document}}\n",
    "\n",
    "\\\\pagestyle{{empty}}\"\"\"\n",
    "\n",
    "DESCRIPTION = \"\"\"Через все точки пересечения графиков функций $f(x)$ и $g(x)$ провести горизонтальные прямые. \n",
    "Изобразить на графике $f(x)$ зеленым цветом, $g(x)$ красным, горизонтальные линии черным. \n",
    "Формулы для $f(x)$ и $g(x)$ включить в легенду (например, как $f(x) = 3x^2 + 5x - 7$).\"\"\"\n",
    "\n",
    "TASK = \"\"\"\\\\begin{{align*}}\n",
    "    f(x) = {f} && g(x) = {g}\n",
    "\\\\end{{align*}}\"\"\"\n",
    "\n",
    "SOLUTION = \"\"\"\\\\begin{{align*}}\n",
    "    f(x) = {f} && g(x) = {g}\n",
    "\\\\end{{align*}}\n",
    "Point 1: ${p1}$\n",
    "Point 2: ${p2}$\n",
    "\n",
    "\\\\includegraphics[scale=0.8]{{ {{ {plot_name} }} }}\n",
    "\"\"\""
   ]
  },
  {
   "cell_type": "code",
   "execution_count": 17,
   "metadata": {},
   "outputs": [],
   "source": [
    "def variant_generator(variant_n: int):\n",
    "    f, g, p1, p2 = generate_functions() \n",
    "\n",
    "    name = f\"{variant_n}.png\"\n",
    "    create_plot(f, g, p1, p2, name)\n",
    "\n",
    "    f_latex = sp.latex(f)\n",
    "    g_latex = sp.latex(g)\n",
    "\n",
    "    return TASK.format(f=f_latex, g=g_latex), SOLUTION.format(f=f_latex, g=g_latex, p1=sp.latex(p1), p2=sp.latex(p2), plot_name=name)\n",
    "\n",
    "DOC = DocumentGenerator(variant_generator, DESCRIPTION, header = HEADER)"
   ]
  },
  {
   "cell_type": "code",
   "execution_count": 32,
   "metadata": {},
   "outputs": [],
   "source": [
    "write_tasks_and_solutions(DOC, \"../out/tasks/task-3.tex\", \"../out/answers/answer3/answer-3.tex\", 150)"
   ]
  }
 ],
 "metadata": {
  "kernelspec": {
   "display_name": ".venv",
   "language": "python",
   "name": "python3"
  },
  "language_info": {
   "codemirror_mode": {
    "name": "ipython",
    "version": 3
   },
   "file_extension": ".py",
   "mimetype": "text/x-python",
   "name": "python",
   "nbconvert_exporter": "python",
   "pygments_lexer": "ipython3",
   "version": "3.11.3"
  },
  "orig_nbformat": 4
 },
 "nbformat": 4,
 "nbformat_minor": 2
}
