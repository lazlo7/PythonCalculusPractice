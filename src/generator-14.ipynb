{
 "cells": [
  {
   "cell_type": "code",
   "execution_count": 1,
   "metadata": {
    "collapsed": true
   },
   "outputs": [],
   "source": [
    "import operator\n",
    "import os\n",
    "import warnings\n",
    "from dataclasses import dataclass\n",
    "from random import randint, choices\n",
    "from typing import Callable, Iterable, Tuple\n",
    "\n",
    "import matplotlib\n",
    "import numpy as np\n",
    "import sympy as sp\n",
    "from numpy.random import choice\n",
    "from sympy import latex\n",
    "from sympy.abc import x, y"
   ]
  },
  {
   "cell_type": "code",
   "execution_count": 2,
   "outputs": [],
   "source": [
    "warnings.filterwarnings(\"error\")\n",
    "matplotlib.use(\"Agg\")\n",
    "dx, dy = sp.symbols('dx dy')"
   ],
   "metadata": {
    "collapsed": false
   }
  },
  {
   "cell_type": "code",
   "execution_count": 3,
   "outputs": [],
   "source": [
    "%run document_generator.ipynb"
   ],
   "metadata": {
    "collapsed": false
   }
  },
  {
   "cell_type": "code",
   "execution_count": 4,
   "outputs": [],
   "source": [
    "def latex_image(path: str) -> str:\n",
    "    return r\"\"\"\\begin{figure}[H]\n",
    "    \\centering\n",
    "    \\includegraphics[]{%s}\n",
    "    \\label{fig:figure}\n",
    "\\end{figure}\"\"\" % path"
   ],
   "metadata": {
    "collapsed": false
   }
  },
  {
   "cell_type": "code",
   "execution_count": 5,
   "outputs": [],
   "source": [
    "def random_float_coef():\n",
    "    return sp.S(choice(list(set(range(-3, 4)) - {0}))) / choice([1, 2, 3])\n",
    "\n",
    "\n",
    "def generate_combination_x_y() -> sp.Expr:\n",
    "    return choices([sum([random_float_coef() * item for item in choice([x ** 2, y ** 2, x * y, x, y, 1], size=3)]),\n",
    "                    sum([random_float_coef() * item for item in\n",
    "                         choice([x ** 2, y ** 2, x * y, x, y, 1], size=2, replace=False)]),\n",
    "                    random_float_coef() * x * y\n",
    "                    ], weights=[3, 4, 3])[0]\n",
    "\n",
    "\n",
    "def func_generator_decorator(expr: sp.Expr) -> Callable[[], sp.Expr]:\n",
    "    def generate_func() -> sp.Expr:\n",
    "        symbol = list(expr.free_symbols)[0]\n",
    "        return random_float_coef() * expr.subs(symbol, random_float_coef() * symbol)\n",
    "\n",
    "    return generate_func\n",
    "\n",
    "\n",
    "generate_asin = func_generator_decorator(sp.asin(x))\n",
    "generate_acos = func_generator_decorator(sp.acos(x))\n",
    "generate_atan = func_generator_decorator(sp.atan(x))\n",
    "generate_sin = func_generator_decorator(sp.sin(x))\n",
    "generate_cos = func_generator_decorator(sp.cos(x))\n",
    "generate_tan = func_generator_decorator(sp.tan(x))\n",
    "\n",
    "\n",
    "def generate_raising_to_negative_int() -> sp.Expr:\n",
    "    return random_float_coef() * sp.S(1) / x\n",
    "\n",
    "\n",
    "def generate_linear_func() -> sp.Expr:\n",
    "    return random_float_coef() * x + random_float_coef()\n",
    "\n",
    "\n",
    "def generate_id() -> sp.Expr:\n",
    "    return x\n",
    "\n",
    "\n",
    "def generate_exponentiation() -> sp.Expr:\n",
    "    coef1 = random_float_coef()\n",
    "    degree_basis = 1\n",
    "    while degree_basis == 1:\n",
    "        degree_basis = choice([choice([2, 3, 5]), sp.E])\n",
    "    return coef1 * degree_basis ** x\n",
    "\n",
    "\n",
    "def generate_root() -> sp.Expr:\n",
    "    return random_float_coef() * choice([sp.sqrt, sp.cbrt])(random_float_coef() * x)\n",
    "\n",
    "\n",
    "def composition(first, second):\n",
    "    return first.subs(x, second)\n",
    "\n",
    "\n",
    "def generate_random_func():\n",
    "    generators = [generate_asin,\n",
    "                  generate_acos,\n",
    "                  generate_atan,\n",
    "                  generate_sin,\n",
    "                  generate_cos,\n",
    "                  generate_tan,\n",
    "                  generate_linear_func,\n",
    "                  generate_id,\n",
    "                  generate_root]\n",
    "    operators = [operator.add, operator.mul, operator.truediv]\n",
    "    func = None\n",
    "    while func is None or len(latex(func)) > 50 or len(func.free_symbols) < 2:\n",
    "        func1 = choice(generators)().subs(x, generate_combination_x_y())\n",
    "        func2 = choice(generators)().subs(x, generate_combination_x_y())\n",
    "        random_operator = choice(operators)\n",
    "        func = random_operator(func1, func2)\n",
    "    return func"
   ],
   "metadata": {
    "collapsed": false
   }
  },
  {
   "cell_type": "code",
   "execution_count": 6,
   "outputs": [],
   "source": [
    "DESCRIPTION = \"Построить линии уровня и вычислить полный дифференциал функции f(x, y).\"\n",
    "\n",
    "OUT_ANSWER_PATH = \"../out/answers/answer14/\"\n",
    "os.makedirs(os.path.dirname(OUT_ANSWER_PATH), exist_ok=True)"
   ],
   "metadata": {
    "collapsed": false
   }
  },
  {
   "cell_type": "code",
   "execution_count": 7,
   "outputs": [],
   "source": [
    "@dataclass\n",
    "class Color:\n",
    "    human_version: str\n",
    "    plot_version: str\n",
    "\n",
    "\n",
    "@dataclass\n",
    "class LevelLine:\n",
    "    level: sp.Number\n",
    "    color: Color"
   ],
   "metadata": {
    "collapsed": false
   }
  },
  {
   "cell_type": "code",
   "execution_count": 8,
   "outputs": [],
   "source": [
    "def task_condition(expr: sp.Expr, level_lines: Iterable[LevelLine]) -> str:\n",
    "    level_lines_task = ', '.join(map(\n",
    "        lambda level_line: f'${latex(level_line.level)}$ - {level_line.color.human_version} цветом',\n",
    "        level_lines)\n",
    "    )\n",
    "    return f\"\\n\\n$f(x, y) = {latex(expr)}$\\n\\n\" \\\n",
    "           f\"Построить линии уровня для значений: {level_lines_task}\""
   ],
   "metadata": {
    "collapsed": false
   }
  },
  {
   "cell_type": "code",
   "execution_count": 9,
   "outputs": [],
   "source": [
    "def solve_task(option: int, expr: sp.Expr, level_lines: Iterable[LevelLine]) -> str:\n",
    "    full_diff = (expr.diff(x) * dx + expr.diff(y) * dy).simplify()\n",
    "    p = sp.plot(ylabel='y', xlim=(-5, 5), ylim=(-5, 5), show=False)\n",
    "    for level_line in level_lines:\n",
    "        p.append(sp.plot_implicit(\n",
    "            sp.Eq(expr, level_line.level), (x, -5, 5), (y, -5, 5),\n",
    "            line_color=level_line.color.plot_version,\n",
    "            show=False)[0])\n",
    "    p.save(OUT_ANSWER_PATH + str(option))\n",
    "    matplotlib.pyplot.close()\n",
    "    return f\"\\n\\n{latex_image(OUT_ANSWER_PATH + str(option) + '.png')}\\n\\n\" \\\n",
    "           f\"Полный дифференциал функции ${latex(full_diff)}$\""
   ],
   "metadata": {
    "collapsed": false
   }
  },
  {
   "cell_type": "code",
   "execution_count": 10,
   "outputs": [],
   "source": [
    "def generate_random_levels(expr: sp.Expr, count: int) -> list[sp.Number]:\n",
    "    with np.errstate(all=\"ignore\"):\n",
    "        np_func = sp.lambdify((x, y), expr, 'numpy')\n",
    "        values = np_func(*np.meshgrid(np.linspace(-5, 5), np.linspace(-5, 5)))\n",
    "        min_val = int(np.nanmin(values)) + 1\n",
    "        max_val = int(np.nanmax(values)) - 1\n",
    "        if min_val > max_val or max_val - min_val < 6:\n",
    "            raise UserWarning\n",
    "        levels = []\n",
    "        while len(levels) < count:\n",
    "            levels.append(randint(min_val, max_val))\n",
    "        return levels\n",
    "\n",
    "\n",
    "def generate_task_and_answer(option: int) -> Tuple[str, str]:\n",
    "    colors = [Color(\"зеленым\", \"green\"),\n",
    "              Color(\"красным\", \"red\"),\n",
    "              Color(\"синим\", \"blue\"),\n",
    "              Color(\"желтым\", \"yellow\"),\n",
    "              Color(\"фиолетовым\", \"magenta\"),\n",
    "              Color(\"черным\", \"black\")]\n",
    "    while True:\n",
    "        func = None\n",
    "        try:\n",
    "            func = generate_random_func()\n",
    "            level_line_count = randint(3, 5)\n",
    "            levels = generate_random_levels(func, level_line_count)\n",
    "            level_lines = list(map(lambda pair: LevelLine(pair[0], pair[1]),\n",
    "                                   zip(levels, choice(colors, size=level_line_count, replace=False)))\n",
    "                               )\n",
    "            return task_condition(func, level_lines), solve_task(option, func, level_lines)\n",
    "        except UserWarning:\n",
    "            pass\n",
    "        except Exception as e:\n",
    "            print(e)\n",
    "            display(func)"
   ],
   "metadata": {
    "collapsed": false
   }
  },
  {
   "cell_type": "code",
   "execution_count": 11,
   "outputs": [],
   "source": [
    "doc = DocumentGenerator(generate_task_and_answer, DESCRIPTION)"
   ],
   "metadata": {
    "collapsed": false
   }
  },
  {
   "cell_type": "code",
   "execution_count": 12,
   "outputs": [],
   "source": [
    "write_tasks_and_solutions(doc, \"../out/tasks/task-14.tex\", OUT_ANSWER_PATH + \"answer-14.tex\", 150)"
   ],
   "metadata": {
    "collapsed": false
   }
  }
 ],
 "metadata": {
  "kernelspec": {
   "display_name": "Python 3",
   "language": "python",
   "name": "python3"
  },
  "language_info": {
   "codemirror_mode": {
    "name": "ipython",
    "version": 2
   },
   "file_extension": ".py",
   "mimetype": "text/x-python",
   "name": "python",
   "nbconvert_exporter": "python",
   "pygments_lexer": "ipython2",
   "version": "2.7.6"
  }
 },
 "nbformat": 4,
 "nbformat_minor": 0
}
