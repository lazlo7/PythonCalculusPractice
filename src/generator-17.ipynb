{
 "cells": [
  {
   "cell_type": "markdown",
   "metadata": {},
   "source": [
    "### Индивидуальное задание. Линейные ОДУ второго порядка с постоянными коэффициентами\n",
    "\n",
    "#### Решить задачу Коши аналитически, методом Эйлера и методом Рунге-Кутты. Построить в одной координатной плоскости графики точного и приближенных решений. Шаг принять равным 0.01"
   ]
  },
  {
   "cell_type": "code",
   "execution_count": 102,
   "metadata": {},
   "outputs": [],
   "source": [
    "import numpy as np\n",
    "import sympy as sp\n",
    "import matplotlib.pyplot as plt\n",
    "import os"
   ]
  },
  {
   "cell_type": "code",
   "execution_count": 103,
   "metadata": {},
   "outputs": [],
   "source": [
    "%run document_generator.ipynb"
   ]
  },
  {
   "cell_type": "code",
   "execution_count": 104,
   "metadata": {},
   "outputs": [],
   "source": [
    "x, y, C = sp.symbols(\"x y C\", real=True)"
   ]
  },
  {
   "cell_type": "code",
   "execution_count": 105,
   "metadata": {},
   "outputs": [],
   "source": [
    "\"\"\"\n",
    "Returns coefficients (a, b, c) for a random \"derivative function\" in the form d/dx y(x) = (a*y(x) + b) * x**c, \n",
    "where c is N+ or 1/(N+) and !(a == 0 and b == 0).\n",
    "\"\"\"\n",
    "def generate_coefficients() -> tuple[sp.Integer, sp.Integer, sp.Rational]:\n",
    "    def coef(hi, low = 0):\n",
    "        return sp.sympify(np.random.choice([-1, 1]) * np.random.randint(low, hi + 1))\n",
    "\n",
    "    while True:\n",
    "        a = coef(10)\n",
    "        b = coef(10)\n",
    "        if a == 0 and b == 0:\n",
    "            continue\n",
    "\n",
    "        c_denom = sp.sympify(np.random.randint(1, 21))\n",
    "        c_num = sp.sympify(np.random.randint(1, 4*c_denom + 1))\n",
    "        c = c_denom / c_num\n",
    "\n",
    "        return a, b, c"
   ]
  },
  {
   "cell_type": "code",
   "execution_count": 106,
   "metadata": {},
   "outputs": [],
   "source": [
    "\"\"\"\n",
    "Returns an initial point in the form (0, x) for Cauchy problem.  \n",
    "\"\"\"\n",
    "def generate_initial_point() -> sp.Point2D:\n",
    "    return sp.Point2D(0, np.random.choice([-1, 1]) * np.random.randint(11))"
   ]
  },
  {
   "cell_type": "code",
   "execution_count": 107,
   "metadata": {},
   "outputs": [],
   "source": [
    "\"\"\"\n",
    "Analytically solves Cauchy problem of function in the form d/dx y(x) = (a*y(x) + b) * x**c,\n",
    "with a, b, c coefficients and initial point given as parameters.\n",
    "Returns the resulting function if a solution exists; otherwise, returns None\n",
    "\"\"\"\n",
    "def solve_analytically(a: sp.Number, b: sp.Number, c: sp.Number, initial_p: sp.Point2D) -> sp.Expr:\n",
    "    lhs = sp.integrate(sp.S(1) / (a*y + b), y)\n",
    "    rhs = sp.integrate(x**c, x) + C\n",
    "\n",
    "    lhs_subbed = lhs.subs({x: initial_p[0], y: initial_p[1]})\n",
    "    rhs_subbed = rhs.subs({x: initial_p[0], y: initial_p[1]})\n",
    "\n",
    "    c_values = sp.solveset(sp.Eq(lhs_subbed, rhs_subbed), C)\n",
    "    if len(c_values) == 0:\n",
    "        return None\n",
    "    \n",
    "    c_value, = c_values\n",
    "    rhs = rhs.subs({C: c_value})\n",
    "\n",
    "    eqs = sp.solve(sp.Eq(lhs, rhs), y)\n",
    "    assert len(eqs) > 0, \"Could not solve for y\"\n",
    "\n",
    "    return eqs[0]"
   ]
  },
  {
   "cell_type": "code",
   "execution_count": 108,
   "metadata": {},
   "outputs": [],
   "source": [
    "APPROX_STEP = 0.01\n",
    "APPROX_RANGE = 200"
   ]
  },
  {
   "cell_type": "code",
   "execution_count": 109,
   "metadata": {},
   "outputs": [],
   "source": [
    "def solve_euler(y_deriv: sp.Expr, initial_p: sp.Point2D) -> list[tuple[float, float]]:\n",
    "    x_k, y_k = initial_p\n",
    "    res = [initial_p]\n",
    "\n",
    "    for i in range(APPROX_RANGE):\n",
    "        f_k = y_deriv.subs({x: x_k, y: y_k})\n",
    "\n",
    "        x_k += APPROX_STEP\n",
    "        y_k += APPROX_STEP*float(f_k)\n",
    "\n",
    "        res.append((float(x_k), float(y_k)))\n",
    "\n",
    "    return res"
   ]
  },
  {
   "cell_type": "code",
   "execution_count": 110,
   "metadata": {},
   "outputs": [],
   "source": [
    "def solve_runge_kutta(y_deriv: sp.Expr, initial_p: sp.Expr) -> list[tuple[float, float]]:\n",
    "    x_k, y_k = initial_p\n",
    "    res = [initial_p]\n",
    "\n",
    "    for i in range(APPROX_RANGE):\n",
    "        f_k = y_deriv.subs({x: x_k, y: y_k})\n",
    "\n",
    "        y_k1 = y_k + APPROX_STEP*f_k\n",
    "        x_k += APPROX_STEP\n",
    "        \n",
    "        f_k1 = (f_k + y_deriv.subs({x: x_k, y: y_k1})) / sp.S(2)\n",
    "        y_k += APPROX_STEP*f_k1\n",
    "        \n",
    "        res.append((float(x_k), float(y_k)))\n",
    "\n",
    "    return res"
   ]
  },
  {
   "cell_type": "code",
   "execution_count": 111,
   "metadata": {},
   "outputs": [],
   "source": [
    "PICS_PATH = \"../out/answers/answer17/\"\n",
    "PLOT_X_LIMITS = (0, 2)"
   ]
  },
  {
   "cell_type": "code",
   "execution_count": 112,
   "metadata": {},
   "outputs": [],
   "source": [
    "def create_plot(\n",
    "        y_solved: sp.Expr, \n",
    "        euler_solution: list[tuple[float, float]], \n",
    "        runge_kutta_solution: list[tuple[float, float]],\n",
    "        name: str):\n",
    "    y_solved_lam = sp.lambdify(x, y_solved, modules=[\"numpy\"])\n",
    "\n",
    "    X_len = int((PLOT_X_LIMITS[1] - PLOT_X_LIMITS[0]) / APPROX_STEP)\n",
    "    X = np.linspace(*PLOT_X_LIMITS, X_len)\n",
    "\n",
    "    fig = plt.figure()\n",
    "\n",
    "    plt.plot(X, y_solved_lam(X), color=\"red\", label=\"Analytical\")\n",
    "    plt.plot(*zip(*euler_solution), color=\"green\", label=\"Euler\")\n",
    "    plt.plot(*zip(*runge_kutta_solution), color=\"black\", label=\"Runge-Kutta\")\n",
    "\n",
    "    plt.legend()\n",
    "\n",
    "    os.makedirs(os.path.dirname(PICS_PATH), exist_ok=True)\n",
    "    plt.savefig(PICS_PATH + name)\n",
    "    \n",
    "    # Close plot to save on resources.\n",
    "    plt.close(fig)"
   ]
  },
  {
   "cell_type": "code",
   "execution_count": 113,
   "metadata": {},
   "outputs": [],
   "source": [
    "DESCRIPTION = \"\"\"Построить графики функций $f(x)$ и $g(x)$, уточнить координаты точек пересечения, решая численно соответствующее уравнение. \n",
    "На графике отметить и подписать буквами A1, A2, ... точки пересечения графиков, вывести в легенде формулы функций, подписать оси.\"\"\"\n",
    "\n",
    "TASK = \"\"\"\\\\begin{{align*}}\n",
    "    \\\\frac{{d}}{{dx}} y(x) = {y} && y({initial_p_x}) = {initial_p_y}\n",
    "\\\\end{{align*}}\"\"\"\n",
    "\n",
    "SOLUTION = \"\"\"\\\\begin{{align*}}\n",
    "    \\\\frac{{d}}{{dx}} y(x) = {y} && y({initial_p_x}) = {initial_p_y}\n",
    "\\\\end{{align*}}\n",
    "Analytical solution: $y(x) = {y_solved}$\n",
    "\n",
    "\\\\includegraphics[scale=0.8]{{ {{ {plot_name} }} }}\n",
    "\"\"\""
   ]
  },
  {
   "cell_type": "code",
   "execution_count": 114,
   "metadata": {},
   "outputs": [],
   "source": [
    "def variant_generator(variant_n: int):\n",
    "    a, b, c = generate_coefficients()\n",
    "    initial_p = generate_initial_point()\n",
    "    analytic_solution = sp.Expr()\n",
    "\n",
    "    while (analytic_solution := solve_analytically(a, b, c, initial_p)) == None:\n",
    "        a, b, c = generate_coefficients()\n",
    "        initial_p = generate_initial_point()\n",
    "\n",
    "    y_deriv = (a*y + b) * x**c\n",
    "    \n",
    "    euler_solution = solve_euler(y_deriv, initial_p)\n",
    "    runge_kutta_solution = solve_runge_kutta(y_deriv, initial_p)\n",
    "\n",
    "    name = f\"{variant_n}.png\"\n",
    "    create_plot(analytic_solution, euler_solution, runge_kutta_solution, name)\n",
    "\n",
    "    y_f = sp.Function(\"y\")\n",
    "    y_deriv_subbed = y_deriv.subs({y: y_f(x)})\n",
    "    if np.random.randint(2) == 0:\n",
    "        y_deriv_subbed = sp.expand(y_deriv_subbed)\n",
    "\n",
    "    y_latex = sp.latex(y_deriv_subbed)\n",
    "    initial_p_x_latex = sp.latex(initial_p[0])\n",
    "    initial_p_y_latex = sp.latex(initial_p[1])\n",
    "\n",
    "    return TASK.format(y = y_latex, initial_p_x = initial_p_x_latex, initial_p_y = initial_p_y_latex), \\\n",
    "        SOLUTION.format(y = y_latex, initial_p_x = initial_p_x_latex, initial_p_y = initial_p_y_latex,\n",
    "                        y_solved = sp.latex(analytic_solution), plot_name=name)\n",
    "\n",
    "DOC = DocumentGenerator(variant_generator, DESCRIPTION)"
   ]
  },
  {
   "cell_type": "code",
   "execution_count": 115,
   "metadata": {},
   "outputs": [],
   "source": [
    "write_tasks_and_solutions(DOC, \"../out/tasks/task-17.tex\", \"../out/answers/answer17/answer-17.tex\", 150)"
   ]
  }
 ],
 "metadata": {
  "kernelspec": {
   "display_name": ".venv",
   "language": "python",
   "name": "python3"
  },
  "language_info": {
   "codemirror_mode": {
    "name": "ipython",
    "version": 3
   },
   "file_extension": ".py",
   "mimetype": "text/x-python",
   "name": "python",
   "nbconvert_exporter": "python",
   "pygments_lexer": "ipython3",
   "version": "3.11.3"
  },
  "orig_nbformat": 4
 },
 "nbformat": 4,
 "nbformat_minor": 2
}
