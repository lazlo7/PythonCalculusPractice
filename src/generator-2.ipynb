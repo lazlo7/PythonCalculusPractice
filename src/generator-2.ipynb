{
 "cells": [
  {
   "cell_type": "code",
   "execution_count": 14,
   "outputs": [],
   "source": [
    "# Импортируем библиотеку с шаблоном для генерации документа\n",
    "%run document_generator.ipynb"
   ],
   "metadata": {
    "collapsed": false
   }
  },
  {
   "cell_type": "code",
   "execution_count": 15,
   "metadata": {},
   "outputs": [],
   "source": [
    "import os\n",
    "from random import randint\n",
    "import sympy as sp\n",
    "from numpy.random import choice\n",
    "from sympy import Eq, symbols, latex\n",
    "import matplotlib"
   ]
  },
  {
   "cell_type": "code",
   "execution_count": 16,
   "outputs": [],
   "source": [
    "matplotlib.use('Agg')"
   ],
   "metadata": {
    "collapsed": false
   }
  },
  {
   "cell_type": "code",
   "execution_count": 17,
   "outputs": [],
   "source": [
    "# Удобные функции для генерации latex кода\n",
    "def latex_system_of_two_eq(statement1: str, statement2: str) -> str:\n",
    "    return r\"\"\"\\begin{{equation*}}\n",
    " \\begin{{cases}}\n",
    "   {}\n",
    "   \\\\\n",
    "   {}\n",
    " \\end{{cases}}\n",
    "\\end{{equation*}}\"\"\".format(statement1, statement2)\n",
    "\n",
    "\n",
    "def latex_image(path: str) -> str:\n",
    "    return r\"\"\"\\begin{figure}[H]\n",
    "    \\centering\n",
    "    \\includegraphics[width=0.5\\textwidth]{%s}\n",
    "    \\label{fig:figure}\n",
    "\\end{figure}\"\"\" % path"
   ],
   "metadata": {
    "collapsed": false
   }
  },
  {
   "cell_type": "code",
   "execution_count": 18,
   "outputs": [],
   "source": [
    "def random_trigonometry_func1(symbol: sp.Symbol) -> sp.Expr:\n",
    "    def random_good_coef():\n",
    "        return choice(list(set(range(-3, 4)) - {0}))\n",
    "\n",
    "    return random_good_coef() * sp.sin(random_good_coef() * symbol) + \\\n",
    "        random_good_coef() * sp.cos(random_good_coef() * symbol)"
   ],
   "metadata": {
    "collapsed": false
   }
  },
  {
   "cell_type": "code",
   "execution_count": 19,
   "outputs": [],
   "source": [
    "def random_trigonometry_func2(symbol: sp.Symbol) -> sp.Expr:\n",
    "    def random_good_coef():\n",
    "        return choice([-8, -7, -6, -5, 5, 6, 7, 8])\n",
    "\n",
    "    func = choice([sp.sin, sp.cos])\n",
    "    arg = randint(1, 3) * symbol\n",
    "    return random_good_coef() * func(arg) ** randint(2, 3)"
   ],
   "metadata": {
    "collapsed": false
   }
  },
  {
   "cell_type": "code",
   "execution_count": 20,
   "outputs": [],
   "source": [
    "def random_polynom(symbol: sp.Symbol) -> sp.Expr:\n",
    "    divider = choice([0, symbol ** 2]) * randint(1, 2) + randint(1, 3)\n",
    "    divider = 1 if divider == 0 else divider\n",
    "    return sp.simplify(sp.S(sp.random_poly(symbol, choice([1, 2, 3]), -3, 3)) / divider)"
   ],
   "metadata": {
    "collapsed": false
   }
  },
  {
   "cell_type": "code",
   "execution_count": 21,
   "outputs": [],
   "source": [
    "def random_exp(symbol: sp.Symbol) -> sp.Expr:\n",
    "    def random_good_coef():\n",
    "        return sp.S(choice(list(set(range(-3, 4)) - {0}))) / choice([1, 2, 3])\n",
    "\n",
    "    return random_good_coef() * choice([sp.E, 2, 3, 4, 5]) ** (choice([-1, 1]) * symbol) + \\\n",
    "        random_good_coef() * choice([sp.E, 2, 3, 4, 5]) ** (choice([-1, 1]) * symbol)"
   ],
   "metadata": {
    "collapsed": false
   }
  },
  {
   "cell_type": "code",
   "execution_count": 26,
   "metadata": {},
   "outputs": [],
   "source": [
    "DESCRIPTION = \"\"\"Построить график параметрически заданной функции с соответствующими уравнениям подписями к осям. В легенде отразить уравнения функции в строчку.\"\"\"\n",
    "\n",
    "OUT_ANSWER_PATH = \"../out/answers/answer2/\""
   ]
  },
  {
   "cell_type": "code",
   "execution_count": 27,
   "metadata": {},
   "outputs": [],
   "source": [
    "def solve_task(func1: sp.Expr,\n",
    "               func2: sp.Expr,\n",
    "               func1_symbol: sp.Symbol,\n",
    "               func2_symbol: sp.Symbol,\n",
    "               arg_symbol: sp.Symbol,\n",
    "               option: int):\n",
    "    func_graph = sp.plot_parametric((func2, func1),\n",
    "                                    (arg_symbol, -10, 10),\n",
    "                                    aspect_ratio=(1, 1),\n",
    "                                    axis_center=(0, 0),\n",
    "                                    xlim=(-10, 10),\n",
    "                                    ylim=(-10, 10),\n",
    "                                    xlabel=f\"${func1_symbol}$\",\n",
    "                                    ylabel=f\"${func2_symbol}$\",\n",
    "                                    legend=True,\n",
    "                                    label=f\"${func1_symbol}({arg_symbol})={latex(func1)}$\\n\"\n",
    "                                          f\"${func2_symbol}({arg_symbol})={latex(func2)}$\",\n",
    "                                    show=False\n",
    "                                    )\n",
    "    func_graph.save(OUT_ANSWER_PATH + str(option))\n",
    "    return latex_image(OUT_ANSWER_PATH + str(option) + \".png\")\n",
    "\n",
    "\n",
    "def generate_task_and_answer(option: int):\n",
    "    random_func = choice([random_trigonometry_func1,\n",
    "                          random_trigonometry_func2,\n",
    "                          random_polynom,\n",
    "                          random_exp])\n",
    "    choices = [symbols(r\"\\psi \\phi\"),\n",
    "               symbols(r\"\\mu_1 \\mu_2\"),\n",
    "               symbols(r\"\\gamma_1 \\gamma_2\"),\n",
    "               symbols(r\"\\alpha \\beta\"),\n",
    "               symbols(r\"\\nu_1 \\nu_2\"),\n",
    "               symbols(r\"\\nu \\mu\")]\n",
    "    func1_symbol, func2_symbol = choices[choice(len(choices))]\n",
    "    arg_symbol = choice(symbols(r\"\\theta \\rho \\epsilon \\delta\"))\n",
    "    func1, func2 = random_func(arg_symbol), random_func(arg_symbol)\n",
    "    eq1 = f\"{func1_symbol}({arg_symbol})={latex(func1)}\"\n",
    "    eq2 = f\"{func2_symbol}({arg_symbol})={latex(func2)}\"\n",
    "    return latex_system_of_two_eq(eq1, eq2), solve_task(func1,\n",
    "                                                        func2,\n",
    "                                                        func1_symbol,\n",
    "                                                        func2_symbol,\n",
    "                                                        arg_symbol,\n",
    "                                                        option)\n",
    "\n",
    "\n",
    "doc = DocumentGenerator(generate_task_and_answer, DESCRIPTION)"
   ]
  },
  {
   "cell_type": "code",
   "execution_count": 29,
   "outputs": [],
   "source": [
    "write_tasks_and_solutions(doc, \"../out/tasks/task-2.tex\", OUT_ANSWER_PATH + \"answer-2.tex\", 150)"
   ],
   "metadata": {
    "collapsed": false
   }
  },
  {
   "cell_type": "code",
   "execution_count": null,
   "outputs": [],
   "source": [],
   "metadata": {
    "collapsed": false
   }
  }
 ],
 "metadata": {
  "kernelspec": {
   "display_name": "Python 3",
   "language": "python",
   "name": "python3"
  },
  "language_info": {
   "codemirror_mode": {
    "name": "ipython",
    "version": 3
   },
   "file_extension": ".py",
   "mimetype": "text/x-python",
   "name": "python",
   "nbconvert_exporter": "python",
   "pygments_lexer": "ipython3",
   "version": "3.8.8"
  },
  "nbTranslate": {
   "displayLangs": [
    "ru",
    "en"
   ],
   "hotkey": "ctrl-shift-g",
   "langInMainMenu": true,
   "sourceLang": "en",
   "targetLang": "ru",
   "useGoogleTranslate": true
  },
  "toc": {
   "base_numbering": 1,
   "nav_menu": {},
   "number_sections": true,
   "sideBar": true,
   "skip_h1_title": false,
   "title_cell": "Table of Contents",
   "title_sidebar": "Contents",
   "toc_cell": false,
   "toc_position": {},
   "toc_section_display": true,
   "toc_window_display": false
  }
 },
 "nbformat": 4,
 "nbformat_minor": 1
}
