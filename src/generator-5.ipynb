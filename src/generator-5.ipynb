{
 "cells": [
  {
   "cell_type": "markdown",
   "metadata": {},
   "source": [
    "### Индивидуальное задание.\n",
    "\n",
    "#### Построить графики функций f(x) и g(x), уточнить координаты точек пересечения, решая численно соответствующее уравнение. На графике отметить и подписать буквами A1, A2, ... точки пересечения графиков, вывести в легенде формулы функций, подписать оси."
   ]
  },
  {
   "cell_type": "code",
   "execution_count": 8,
   "metadata": {},
   "outputs": [],
   "source": [
    "import numpy as np\n",
    "import sympy as sp\n",
    "from sympy.abc import x\n",
    "import os\n",
    "import matplotlib.pyplot as plt\n",
    "%matplotlib inline"
   ]
  },
  {
   "cell_type": "code",
   "execution_count": 9,
   "metadata": {},
   "outputs": [],
   "source": [
    "%run document_generator.ipynb"
   ]
  },
  {
   "cell_type": "code",
   "execution_count": 16,
   "metadata": {},
   "outputs": [],
   "source": [
    "\"\"\"\n",
    "Returns two \"nearby placed\" functions and two points, at which each function intersect other.\n",
    "\"\"\"\n",
    "def generate_functions() -> tuple[sp.Function, sp.Function, sp.Point2D, sp.Point2D]:\n",
    "    def coef(hi, lo = 1):\n",
    "        return sp.sympify(np.random.choice([-1, 1]) * np.random.randint(lo, hi + 1))\n",
    "\n",
    "    while True:\n",
    "        a = coef(3) / coef(2)\n",
    "        b = coef(8, 0) / coef(3)\n",
    "        f = a*x**2 + b*x + coef(12, 0) / coef(4)\n",
    "        \n",
    "        x_mid = int(-b / (2 * a))\n",
    "        x1 = x_mid - np.random.randint(1, 5) \n",
    "        x2 = x_mid + np.random.randint(1, 5)\n",
    "\n",
    "        y1 = f.subs({x: x1})\n",
    "        y2 = f.subs({x: x2})\n",
    "\n",
    "        # Disallow similar heights\n",
    "        if y1 - y2 < 1:\n",
    "            continue\n",
    "\n",
    "        # Disallow points that are too far \n",
    "        if sp.sqrt((x1 - x2)**2 + (y1 - y2)**2) > sp.S(20):\n",
    "            continue\n",
    "\n",
    "        solutions = sp.linsolve((sp.Matrix([[x1**2, x1, 1], [x2**2, x2, 1]]), sp.Matrix([y1, y2]))).args\n",
    "        assert len(solutions) > 0, \"No solutions found\"\n",
    "\n",
    "        a, b, c = solutions[0]\n",
    "        free = c if isinstance(c, sp.Symbol) else (b if b != isinstance(b, sp.Symbol) else a)\n",
    "\n",
    "        substitute = np.random.randint(-10, 11)\n",
    "        a = a.subs({free: substitute})\n",
    "        if a == 0:\n",
    "            continue \n",
    "\n",
    "        b = b.subs({free: substitute})\n",
    "        c = c.subs({free: substitute})\n",
    "\n",
    "        g = a*x**2 + b*x + c\n",
    "        if f == g:\n",
    "            continue\n",
    "\n",
    "        f, g = np.random.permutation([f, g])\n",
    "\n",
    "        if np.random.randint(2) == 0:\n",
    "            f = sp.factor(f)\n",
    "\n",
    "        if np.random.randint(2) == 0:\n",
    "            g = sp.factor(g)\n",
    "\n",
    "        return f, g, sp.Point2D(x1, y1), sp.Point(x2, y2)"
   ]
  },
  {
   "cell_type": "code",
   "execution_count": 11,
   "metadata": {},
   "outputs": [],
   "source": [
    "PICS_PATH = \"../out/answers/answer5/\""
   ]
  },
  {
   "cell_type": "code",
   "execution_count": 12,
   "metadata": {},
   "outputs": [],
   "source": [
    "def create_plot(f: sp.Function, \n",
    "                g: sp.Function,\n",
    "                p1: sp.Point2D,\n",
    "                p2: sp.Point2D, \n",
    "                name: str):\n",
    "    xmin = float(min(p1[0], p2[0]) - 3)\n",
    "    xmax = float(max(p1[0], p2[0]) + 3)\n",
    "    ymin = float(min(p1[1], p2[1]) - 3)\n",
    "    ymax = float(max(p1[1], p2[1]) + 3)\n",
    "\n",
    "    p1_f = (float(p1[0]), float(p1[1]))\n",
    "    p2_f = (float(p2[0]), float(p2[1]))\n",
    "\n",
    "    X = np.linspace(xmin, xmax, 1000)\n",
    "    \n",
    "    lam_f = sp.lambdify(x, f, modules=[\"numpy\"])\n",
    "    lam_g = sp.lambdify(x, g, modules=[\"numpy\"])\n",
    "\n",
    "    f_vals = lam_f(X)\n",
    "    g_vals = lam_g(X)\n",
    "\n",
    "    fig = plt.figure()\n",
    "\n",
    "    plt.plot(X, f_vals, label=f\"$f(x) = {sp.latex(f)}$\")\n",
    "    plt.plot(X, g_vals, label=f\"$g(x) = {sp.latex(g)}$\")\n",
    "\n",
    "    plt.scatter(*p1_f, color=\"black\")\n",
    "    plt.scatter(*p2_f, color=\"black\")\n",
    "\n",
    "    plt.annotate('A1', p1_f, xytext=(p1_f[0] + 0.8, p1_f[1] + 0.8), arrowprops={ \"arrowstyle\": '-'})\n",
    "    plt.annotate('A2', p2_f, xytext=(p2_f[0] + 0.8, p2_f[1] + 0.8), arrowprops={ \"arrowstyle\": '-'})\n",
    "\n",
    "    plt.xlim(xmin, xmax)\n",
    "    plt.ylim(ymin, ymax)\n",
    "\n",
    "    plt.xlabel(\"x\")\n",
    "    plt.ylabel(\"y\")\n",
    "\n",
    "    plt.legend()\n",
    "\n",
    "    os.makedirs(os.path.dirname(PICS_PATH), exist_ok=True)\n",
    "    \n",
    "    plt.savefig(PICS_PATH + name)\n",
    "    \n",
    "    # Close plot to save on resources.\n",
    "    plt.close(fig)"
   ]
  },
  {
   "cell_type": "code",
   "execution_count": 19,
   "metadata": {},
   "outputs": [],
   "source": [
    "DESCRIPTION = \"\"\"Построить графики функций $f(x)$ и $g(x)$, уточнить координаты точек пересечения, решая численно соответствующее уравнение. \n",
    "На графике отметить и подписать буквами A1, A2, ... точки пересечения графиков, вывести в легенде формулы функций, подписать оси.\"\"\"\n",
    "\n",
    "TASK = \"\"\"\\\\begin{{align*}}\n",
    "    f(x) = {f} && g(x) = {g}\n",
    "\\\\end{{align*}}\"\"\"\n",
    "\n",
    "SOLUTION = \"\"\"\\\\begin{{align*}}\n",
    "    f(x) = {f} && g(x) = {g}\n",
    "\\\\end{{align*}}\n",
    "Point 1: ${p1}$\n",
    "Point 2: ${p2}$\n",
    "\n",
    "\\\\includegraphics[scale=0.8]{{ {{ {plot_name} }} }}\n",
    "\"\"\""
   ]
  },
  {
   "cell_type": "code",
   "execution_count": 14,
   "metadata": {},
   "outputs": [],
   "source": [
    "def variant_generator(variant_n: int):\n",
    "    f, g, p1, p2 = generate_functions() \n",
    "\n",
    "    name = f\"{variant_n}.png\"\n",
    "    create_plot(f, g, p1, p2, name)\n",
    "\n",
    "    f_latex = sp.latex(f)\n",
    "    g_latex = sp.latex(g)\n",
    "\n",
    "    return TASK.format(f=f_latex, g=g_latex), SOLUTION.format(f=f_latex, g=g_latex, p1=sp.latex(p1), p2=sp.latex(p2), plot_name=name)\n",
    "\n",
    "DOC = DocumentGenerator(variant_generator, DESCRIPTION)"
   ]
  },
  {
   "cell_type": "code",
   "execution_count": 20,
   "metadata": {},
   "outputs": [],
   "source": [
    "write_tasks_and_solutions(DOC, \"../out/tasks/task-5.tex\", \"../out/answers/answer5/answer-5.tex\", 150)"
   ]
  }
 ],
 "metadata": {
  "kernelspec": {
   "display_name": ".venv",
   "language": "python",
   "name": "python3"
  },
  "language_info": {
   "codemirror_mode": {
    "name": "ipython",
    "version": 3
   },
   "file_extension": ".py",
   "mimetype": "text/x-python",
   "name": "python",
   "nbconvert_exporter": "python",
   "pygments_lexer": "ipython3",
   "version": "3.11.3"
  },
  "orig_nbformat": 4
 },
 "nbformat": 4,
 "nbformat_minor": 2
}
