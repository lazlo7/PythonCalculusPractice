{
 "cells": [
  {
   "cell_type": "code",
   "execution_count": 97,
   "metadata": {
    "collapsed": true
   },
   "outputs": [],
   "source": [
    "import operator\n",
    "from typing import Callable, Tuple\n",
    "\n",
    "import sympy as sp\n",
    "from IPython.display import Math\n",
    "from numpy.random import choice\n",
    "from sympy import latex\n",
    "from sympy.abc import x\n",
    "from random import randint\n",
    "import matplotlib"
   ]
  },
  {
   "cell_type": "code",
   "execution_count": 98,
   "outputs": [],
   "source": [
    "y = sp.Function('y')\n",
    "matplotlib.use(\"Agg\")"
   ],
   "metadata": {
    "collapsed": false
   }
  },
  {
   "cell_type": "code",
   "execution_count": 99,
   "outputs": [],
   "source": [
    "%run document_generator.ipynb"
   ],
   "metadata": {
    "collapsed": false
   }
  },
  {
   "cell_type": "code",
   "execution_count": 100,
   "outputs": [],
   "source": [
    "def latex_image(path: str) -> str:\n",
    "    return r\"\"\"\\begin{figure}[H]\n",
    "    \\centering\n",
    "    \\includegraphics[width=0.5\\textwidth]{%s}\n",
    "    \\label{fig:figure}\n",
    "\\end{figure}\"\"\" % path"
   ],
   "metadata": {
    "collapsed": false
   }
  },
  {
   "cell_type": "code",
   "execution_count": 101,
   "outputs": [],
   "source": [
    "def random_float_coef():\n",
    "    return sp.S(choice(list(set(range(-3, 4)) - {0}))) / choice([1, 2, 3])\n",
    "\n",
    "\n",
    "def func_generator_decorator(expr: sp.Expr) -> Callable[[], sp.Expr]:\n",
    "    def generate_func() -> sp.Expr:\n",
    "        symbol = list(expr.free_symbols)[0]\n",
    "        return random_float_coef() * expr.subs(symbol, random_float_coef() * symbol)\n",
    "\n",
    "    return generate_func\n",
    "\n",
    "\n",
    "generate_sin = func_generator_decorator(sp.sin(x))\n",
    "generate_cos = func_generator_decorator(sp.cos(x))\n",
    "generate_exp = func_generator_decorator(sp.exp(x))\n",
    "\n",
    "\n",
    "def generate_id() -> sp.Expr:\n",
    "    return x\n",
    "\n",
    "\n",
    "def generate_polynom() -> sp.Expr:\n",
    "    return sum([\n",
    "        sp.S(choice(list(range(-3, 4)) + i * [0])) / choice([1, 2, 3]) * x ** i for i in range(3)\n",
    "    ])\n",
    "\n",
    "\n",
    "def generate_random_func():\n",
    "    generators = [generate_sin,\n",
    "                  generate_cos,\n",
    "                  generate_id,\n",
    "                  generate_polynom,\n",
    "                  generate_exp\n",
    "                  ]\n",
    "    operators = [operator.add, operator.mul]\n",
    "    func = None\n",
    "    while func is None or len(func.free_symbols) < 1:\n",
    "        func1, func2 = map(lambda generator: generator(), choice(generators, size=2, replace=False))\n",
    "        random_operator = choice(operators)\n",
    "        func = random_operator(func1, func2)\n",
    "    return func"
   ],
   "metadata": {
    "collapsed": false
   }
  },
  {
   "cell_type": "code",
   "execution_count": 102,
   "outputs": [],
   "source": [
    "DESCRIPTION = \"Решить с помощью метода dsolve задачу Коши. Построить график решения на отрезке $x$ от 0 до 2\"\n",
    "\n",
    "OUT_ANSWER_PATH = \"../out/answers/answer18/\""
   ],
   "metadata": {
    "collapsed": false
   }
  },
  {
   "cell_type": "code",
   "execution_count": 103,
   "outputs": [],
   "source": [
    "def task_condition(func: sp.Expr, value1: sp.Number, value2: sp.Number, value3: sp.Number) -> str:\n",
    "    return f\"\\n\\n$$y''' + y'' + y' + y = {latex(func)},\" \\\n",
    "           f\"\\\\qquad y(0)={latex(value1)},\" \\\n",
    "           f\"\\\\qquad y'(0)={latex(value2)},\" \\\n",
    "           f\"\\\\qquad y''(0)={latex(value3)}$$\""
   ],
   "metadata": {
    "collapsed": false
   }
  },
  {
   "cell_type": "code",
   "execution_count": 115,
   "outputs": [],
   "source": [
    "def solve_task(option: int, func: sp.Expr, value1: sp.Number, value2: sp.Number, value3: sp.Number) -> str:\n",
    "    eq = sp.Eq(sum([y(x).diff(x, i) for i in range(4)]), func)\n",
    "    solution = sp.dsolve(eq, y(x)).rhs\n",
    "    symbols_dict = {str(symbol): symbol for symbol in solution.free_symbols}\n",
    "    c1, c2, c3 = list(sp.linsolve(\n",
    "        [sp.Eq(solution.diff(x, i).subs(x, 0), value) for i, value in enumerate([value1, value2, value3])],\n",
    "        symbols_dict[\"C1\"], symbols_dict[\"C2\"], symbols_dict[\"C3\"]))[0]\n",
    "    final_solution = solution.subs({symbols_dict[\"C1\"]: c1, symbols_dict[\"C2\"]: c2, symbols_dict[\"C3\"]: c3})\n",
    "    p = sp.plot(final_solution, (x, 0, 2), show=False)\n",
    "    p.save(OUT_ANSWER_PATH + str(option))\n",
    "    matplotlib.pyplot.close()\n",
    "    return f\"\\n\\n\\\\begin{{math}}\\n\" \\\n",
    "           f\"y(x) = {latex(final_solution)}\\n\" \\\n",
    "           f\"\\\\end{{math}}\\n\\n\" \\\n",
    "           f\"{latex_image(OUT_ANSWER_PATH + str(option) + '.png')}\""
   ],
   "metadata": {
    "collapsed": false
   }
  },
  {
   "cell_type": "code",
   "execution_count": 116,
   "outputs": [],
   "source": [
    "def generate_task_and_answer(option: int) -> Tuple[str, str]:\n",
    "    while True:\n",
    "        try:\n",
    "            func = generate_random_func()\n",
    "            values = [randint(-3, 3) for _ in range(3)]\n",
    "            return task_condition(func, *values), solve_task(option, func, *values)\n",
    "        except Exception as e:\n",
    "            print(e)"
   ],
   "metadata": {
    "collapsed": false
   }
  },
  {
   "cell_type": "code",
   "execution_count": 117,
   "outputs": [],
   "source": [
    "doc = DocumentGenerator(generate_task_and_answer, DESCRIPTION)"
   ],
   "metadata": {
    "collapsed": false
   }
  },
  {
   "cell_type": "code",
   "execution_count": 118,
   "outputs": [],
   "source": [
    "write_tasks_and_solutions(doc, \"../out/tasks/task-18.tex\", OUT_ANSWER_PATH + \"answer-18.tex\", 30)"
   ],
   "metadata": {
    "collapsed": false
   }
  }
 ],
 "metadata": {
  "kernelspec": {
   "display_name": "Python 3",
   "language": "python",
   "name": "python3"
  },
  "language_info": {
   "codemirror_mode": {
    "name": "ipython",
    "version": 2
   },
   "file_extension": ".py",
   "mimetype": "text/x-python",
   "name": "python",
   "nbconvert_exporter": "python",
   "pygments_lexer": "ipython2",
   "version": "2.7.6"
  }
 },
 "nbformat": 4,
 "nbformat_minor": 0
}
