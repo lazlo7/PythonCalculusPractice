{
 "cells": [
  {
   "cell_type": "markdown",
   "metadata": {},
   "source": [
    "### Индивидуальное задание\n",
    "Вычислить значение функции $f$ с точностью до сотых в точках из списка $X$.\n",
    "#### Указание. \n",
    "Воспользуйтесь методом evalf() для получения приближенного значения. Значения $f$ в точках из списка $X$ выведите в виде списка."
   ]
  },
  {
   "cell_type": "markdown",
   "metadata": {},
   "source": [
    "Устанавливаем numpy, sympy"
   ]
  },
  {
   "cell_type": "code",
   "execution_count": 598,
   "metadata": {},
   "outputs": [
    {
     "name": "stdout",
     "output_type": "stream",
     "text": [
      "Requirement already satisfied: sympy in /home/requef/code/praktika/.venv/lib/python3.11/site-packages (1.12)\n",
      "Requirement already satisfied: mpmath>=0.19 in /home/requef/code/praktika/.venv/lib/python3.11/site-packages (from sympy) (1.3.0)\n",
      "Requirement already satisfied: numpy in /home/requef/code/praktika/.venv/lib/python3.11/site-packages (1.25.1)\n"
     ]
    }
   ],
   "source": [
    "!python -m pip install sympy --upgrade\n",
    "!python -m pip install numpy --upgrade"
   ]
  },
  {
   "cell_type": "markdown",
   "metadata": {},
   "source": [
    "Импортируем нужные библиотеки"
   ]
  },
  {
   "cell_type": "code",
   "execution_count": 599,
   "metadata": {},
   "outputs": [],
   "source": [
    "import numpy as np\n",
    "import sympy as sp\n",
    "from sympy.abc import x\n",
    "from sympy.polys.specialpolys import random_poly\n",
    "import operator"
   ]
  },
  {
   "cell_type": "markdown",
   "metadata": {},
   "source": [
    "Используемые функции (`EX`): \n",
    "- `ln(x)`\n",
    "- `exp(x)`\n",
    "- `sin(x)`\n",
    "- `cos(x)`\n",
    "- `tan(x)`\n",
    "\n",
    "Используемые внутренние функции (`INNER_EX`) - полиномы 2-ой или 3-ей степени с целочисленными коэффициентами \n",
    "\n",
    "Итоговая функция строится следующим образом:  \n",
    "`f(x) = {+, -}ex1(inner_ex1){+, -, *, /}{+, -}ex2(inner_ex2)`, где:\n",
    "- `ex1`, `ex2` in `EX`; `ex1 != ex2`\n",
    "- `inner_ex1`, `inner_ex2` in `INNER_EX`"
   ]
  },
  {
   "cell_type": "code",
   "execution_count": 600,
   "metadata": {},
   "outputs": [],
   "source": [
    "EX = [sp.ln, sp.exp, sp.sin, sp.cos, sp.tan]\n",
    "ARITHMETIC_OPS = [operator.add, operator.sub, operator.mul, operator.truediv]"
   ]
  },
  {
   "cell_type": "code",
   "execution_count": 601,
   "metadata": {},
   "outputs": [],
   "source": [
    "def generate_inner_ex():\n",
    "    return random_poly(x, np.random.randint(2, 4), -10, 10)"
   ]
  },
  {
   "cell_type": "code",
   "execution_count": 602,
   "metadata": {},
   "outputs": [],
   "source": [
    "def generate_final_function():\n",
    "    ex1, ex2 = list(map(lambda ex: np.random.choice([-1, 1]) * ex(generate_inner_ex()), np.random.choice(EX, 2, replace=False)))\n",
    "    return sp.sympify(np.random.choice(ARITHMETIC_OPS)(ex1, ex2))"
   ]
  },
  {
   "cell_type": "code",
   "execution_count": 603,
   "metadata": {},
   "outputs": [],
   "source": [
    "# Restricting potential point values to not get crazy numbers.\n",
    "POINT_MIN = -1e8\n",
    "POINT_MAX = 1e8\n",
    "POINT_EPSILON = 1e-2"
   ]
  },
  {
   "cell_type": "code",
   "execution_count": 604,
   "metadata": {},
   "outputs": [],
   "source": [
    "\"\"\"\n",
    "Safely rounds the expression to n decimal points\n",
    "(see: https://github.com/sympy/sympy/issues/21513).\n",
    "\"\"\"\n",
    "def safe_round(ex: sp.Expr, n):\n",
    "    return round(eval(f'{ex.evalf()}'), n)"
   ]
  },
  {
   "cell_type": "code",
   "execution_count": 611,
   "metadata": {},
   "outputs": [],
   "source": [
    "\"\"\"\n",
    "Attempts to generate a random list of 3 points, lying within the domain of the given function.\n",
    "On failure, returns an empty list. \n",
    "\"\"\"\n",
    "def generate_points(f: sp.Expr):\n",
    "    def test(p):\n",
    "        res = f.subs(x, p) \n",
    "        return res.is_finite and res.is_real and POINT_MIN <= res <= POINT_MAX and abs(safe_round(res, 2)) >= POINT_EPSILON\n",
    "\n",
    "    points = []\n",
    "    \n",
    "    # First point is always an integer in [-10, 10].\n",
    "    first_points = [p for p in range(-10, 11)]\n",
    "    np.random.shuffle(first_points)\n",
    "\n",
    "    for p in first_points:\n",
    "        if test(p):\n",
    "            points.append(p)\n",
    "            break\n",
    "    else:\n",
    "        return []\n",
    "    \n",
    "    # 2 other points are of form: a + b*PI, b != 0\n",
    "    for point_count in range(2):\n",
    "        for attempt in range(100):\n",
    "            p = np.random.randint(-10, 11) + np.random.choice([-1, 1]) * np.random.randint(1, 11) * sp.pi\n",
    "            if test(p) and p not in points:\n",
    "                points.append(p)\n",
    "                break\n",
    "        else:\n",
    "            return []\n",
    "        \n",
    "    return points"
   ]
  },
  {
   "cell_type": "code",
   "execution_count": 612,
   "metadata": {},
   "outputs": [],
   "source": [
    "\"\"\"\n",
    "Returns a pair of a function and 3 points, lying within the domain of it.\n",
    "\"\"\"\n",
    "def generate_final_function_and_points():\n",
    "    while True:\n",
    "        f = generate_final_function()\n",
    "        ps = generate_points(f)\n",
    "        if len(ps) > 0:\n",
    "            return f, ps"
   ]
  },
  {
   "cell_type": "code",
   "execution_count": 613,
   "metadata": {},
   "outputs": [],
   "source": [
    "def solve(f: sp.Expr, points):\n",
    "    return [safe_round(f.subs(x, p), 2) for p in points]"
   ]
  },
  {
   "cell_type": "code",
   "execution_count": 608,
   "metadata": {},
   "outputs": [],
   "source": [
    "HEADER = \"\"\"\\\\documentclass[11pt]{report}\n",
    "\\\\usepackage[T2A]{fontenc}\n",
    "\\\\usepackage[utf8]{inputenc}\n",
    "\\\\usepackage[russian]{babel}\n",
    "\\\\usepackage{amsmath,amssymb}\n",
    "\\\\usepackage{graphicx}\n",
    "\\\\oddsidemargin=-19mm\n",
    "\\\\topmargin=-30mm\n",
    "\\\\textheight 26cm\n",
    "\\\\hsize 18cm\n",
    "\\\\textwidth 20cm\n",
    "\\\\begin{document}\n",
    "\n",
    "\\\\pagestyle{empty}\n",
    "{\\\\bf Индивидуальное задание.}\n",
    "Вычислить значение функции $f$ с точностью до сотых в точках из списка $X$.\n",
    "Указание. Воспользуйтесь методом evalf() для получения приближенного значения. Значения $f$ в точках из списка $X$ выведите в виде списка.\\n\\n\"\"\"\n",
    "\n",
    "TAIL = \"\\n\\\\end{document}\"\n",
    "VARIANT_COUNT = 150"
   ]
  },
  {
   "cell_type": "code",
   "execution_count": 615,
   "metadata": {},
   "outputs": [],
   "source": [
    "def generate_tasks_and_solutions(tasks_filepath: str, solutions_filepath: str):\n",
    "    def head(variant_n: int):\n",
    "        return r\"\"\"\\begin{center}\n",
    "    \\noindent\\rule{8cm}{0.4pt}\n",
    "\\end{center}\n",
    "Вариант \\(\"\"\" + str(variant_n) + \"\\\\)\\n\"\n",
    "    \n",
    "    def desc(f: sp.Expr, ps, solution: bool):\n",
    "        return r\"\"\"\\begin{align*}\n",
    "    f(x) = \"\"\" + sp.latex(f) + f\" && {'Solution' if solution else 'X'} = \" + sp.latex(ps) + r\"\"\"\n",
    "\\end{align*}\n",
    "\"\"\"\n",
    "\n",
    "    with open(tasks_filepath, \"w+\") as f_tasks, open(solutions_filepath, \"w+\") as f_solutions:\n",
    "        f_tasks.write(HEADER)\n",
    "        f_solutions.write(HEADER)\n",
    "\n",
    "        for variant in range(VARIANT_COUNT):\n",
    "            print(f\"Generating variant {variant}...\")\n",
    "            f, ps = generate_final_function_and_points()\n",
    "            head_latex = head(variant)\n",
    "\n",
    "            f_tasks.write(head_latex)\n",
    "            f_solutions.write(head_latex)\n",
    "            \n",
    "            f_tasks.write(desc(f, ps, False))\n",
    "            f_solutions.write(desc(f, solve(f, ps), True))\n",
    "\n",
    "        f_tasks.write(TAIL)\n",
    "        f_solutions.write(TAIL)"
   ]
  },
  {
   "cell_type": "code",
   "execution_count": 616,
   "metadata": {},
   "outputs": [
    {
     "name": "stdout",
     "output_type": "stream",
     "text": [
      "Generating variant 0...\n",
      "Generating variant 1...\n",
      "Generating variant 2...\n",
      "Generating variant 3...\n",
      "Generating variant 4...\n",
      "Generating variant 5...\n",
      "Generating variant 6...\n",
      "Generating variant 7...\n",
      "Generating variant 8...\n",
      "Generating variant 9...\n",
      "Generating variant 10...\n",
      "Generating variant 11...\n",
      "Generating variant 12...\n",
      "Generating variant 13...\n",
      "Generating variant 14...\n",
      "Generating variant 15...\n",
      "Generating variant 16...\n",
      "Generating variant 17...\n",
      "Generating variant 18...\n",
      "Generating variant 19...\n",
      "Generating variant 20...\n",
      "Generating variant 21...\n",
      "Generating variant 22...\n",
      "Generating variant 23...\n",
      "Generating variant 24...\n",
      "Generating variant 25...\n",
      "Generating variant 26...\n",
      "Generating variant 27...\n",
      "Generating variant 28...\n",
      "Generating variant 29...\n",
      "Generating variant 30...\n",
      "Generating variant 31...\n",
      "Generating variant 32...\n",
      "Generating variant 33...\n",
      "Generating variant 34...\n",
      "Generating variant 35...\n",
      "Generating variant 36...\n",
      "Generating variant 37...\n",
      "Generating variant 38...\n",
      "Generating variant 39...\n",
      "Generating variant 40...\n",
      "Generating variant 41...\n",
      "Generating variant 42...\n",
      "Generating variant 43...\n",
      "Generating variant 44...\n",
      "Generating variant 45...\n",
      "Generating variant 46...\n",
      "Generating variant 47...\n",
      "Generating variant 48...\n",
      "Generating variant 49...\n",
      "Generating variant 50...\n",
      "Generating variant 51...\n",
      "Generating variant 52...\n",
      "Generating variant 53...\n",
      "Generating variant 54...\n",
      "Generating variant 55...\n",
      "Generating variant 56...\n",
      "Generating variant 57...\n",
      "Generating variant 58...\n",
      "Generating variant 59...\n",
      "Generating variant 60...\n",
      "Generating variant 61...\n",
      "Generating variant 62...\n",
      "Generating variant 63...\n",
      "Generating variant 64...\n",
      "Generating variant 65...\n",
      "Generating variant 66...\n",
      "Generating variant 67...\n",
      "Generating variant 68...\n",
      "Generating variant 69...\n",
      "Generating variant 70...\n",
      "Generating variant 71...\n",
      "Generating variant 72...\n",
      "Generating variant 73...\n",
      "Generating variant 74...\n",
      "Generating variant 75...\n",
      "Generating variant 76...\n",
      "Generating variant 77...\n",
      "Generating variant 78...\n",
      "Generating variant 79...\n",
      "Generating variant 80...\n",
      "Generating variant 81...\n",
      "Generating variant 82...\n",
      "Generating variant 83...\n",
      "Generating variant 84...\n",
      "Generating variant 85...\n",
      "Generating variant 86...\n",
      "Generating variant 87...\n",
      "Generating variant 88...\n",
      "Generating variant 89...\n",
      "Generating variant 90...\n",
      "Generating variant 91...\n",
      "Generating variant 92...\n",
      "Generating variant 93...\n",
      "Generating variant 94...\n",
      "Generating variant 95...\n",
      "Generating variant 96...\n",
      "Generating variant 97...\n",
      "Generating variant 98...\n",
      "Generating variant 99...\n",
      "Generating variant 100...\n",
      "Generating variant 101...\n",
      "Generating variant 102...\n",
      "Generating variant 103...\n",
      "Generating variant 104...\n",
      "Generating variant 105...\n",
      "Generating variant 106...\n",
      "Generating variant 107...\n",
      "Generating variant 108...\n",
      "Generating variant 109...\n",
      "Generating variant 110...\n",
      "Generating variant 111...\n",
      "Generating variant 112...\n",
      "Generating variant 113...\n",
      "Generating variant 114...\n",
      "Generating variant 115...\n",
      "Generating variant 116...\n",
      "Generating variant 117...\n",
      "Generating variant 118...\n",
      "Generating variant 119...\n",
      "Generating variant 120...\n",
      "Generating variant 121...\n",
      "Generating variant 122...\n",
      "Generating variant 123...\n",
      "Generating variant 124...\n",
      "Generating variant 125...\n",
      "Generating variant 126...\n",
      "Generating variant 127...\n",
      "Generating variant 128...\n",
      "Generating variant 129...\n",
      "Generating variant 130...\n",
      "Generating variant 131...\n",
      "Generating variant 132...\n",
      "Generating variant 133...\n",
      "Generating variant 134...\n",
      "Generating variant 135...\n",
      "Generating variant 136...\n",
      "Generating variant 137...\n",
      "Generating variant 138...\n",
      "Generating variant 139...\n",
      "Generating variant 140...\n",
      "Generating variant 141...\n",
      "Generating variant 142...\n",
      "Generating variant 143...\n",
      "Generating variant 144...\n",
      "Generating variant 145...\n",
      "Generating variant 146...\n",
      "Generating variant 147...\n",
      "Generating variant 148...\n",
      "Generating variant 149...\n"
     ]
    }
   ],
   "source": [
    "generate_tasks_and_solutions(\"../out/task-1.tex\", \"../out/task-ans-1.tex\")"
   ]
  }
 ],
 "metadata": {
  "kernelspec": {
   "display_name": ".venv",
   "language": "python",
   "name": "python3"
  },
  "language_info": {
   "codemirror_mode": {
    "name": "ipython",
    "version": 3
   },
   "file_extension": ".py",
   "mimetype": "text/x-python",
   "name": "python",
   "nbconvert_exporter": "python",
   "pygments_lexer": "ipython3",
   "version": "3.11.3"
  },
  "orig_nbformat": 4
 },
 "nbformat": 4,
 "nbformat_minor": 2
}
