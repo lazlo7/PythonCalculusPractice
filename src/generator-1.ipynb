{
 "cells": [
  {
   "cell_type": "markdown",
   "metadata": {},
   "source": [
    "### Индивидуальное задание\n",
    "Вычислить значение функции $f$ с точностью до сотых в точках из списка $X$.\n",
    "#### Указание. \n",
    "Воспользуйтесь методом evalf() для получения приближенного значения. Значения $f$ в точках из списка $X$ выведите в виде списка."
   ]
  },
  {
   "cell_type": "markdown",
   "metadata": {},
   "source": [
    "Устанавливаем numpy, sympy"
   ]
  },
  {
   "cell_type": "code",
   "execution_count": null,
   "metadata": {},
   "outputs": [],
   "source": [
    "!python -m pip install sympy --upgrade\n",
    "!python -m pip install numpy --upgrade"
   ]
  },
  {
   "cell_type": "markdown",
   "metadata": {},
   "source": [
    "Импортируем нужные библиотеки"
   ]
  },
  {
   "cell_type": "code",
   "execution_count": null,
   "metadata": {},
   "outputs": [],
   "source": [
    "import numpy as np\n",
    "import sympy as sp\n",
    "from sympy.abc import x\n",
    "from sympy.polys.specialpolys import random_poly\n",
    "import operator\n",
    "import os"
   ]
  },
  {
   "cell_type": "code",
   "execution_count": null,
   "metadata": {},
   "outputs": [],
   "source": [
    "%run document_generator.ipynb"
   ]
  },
  {
   "cell_type": "markdown",
   "metadata": {},
   "source": [
    "Используемые функции (`EX`): \n",
    "- `ln(x)`\n",
    "- `exp(x)`\n",
    "- `sin(x)`\n",
    "- `cos(x)`\n",
    "- `tan(x)`\n",
    "\n",
    "Используемые внутренние функции (`INNER_EX`) - полиномы 2-ой или 3-ей степени с целочисленными коэффициентами \n",
    "\n",
    "Итоговая функция строится следующим образом:  \n",
    "`f(x) = {+, -}ex1(inner_ex1){+, -, *, /}{+, -}ex2(inner_ex2)`, где:\n",
    "- `ex1`, `ex2` in `EX`; `ex1 != ex2`\n",
    "- `inner_ex1`, `inner_ex2` in `INNER_EX`"
   ]
  },
  {
   "cell_type": "code",
   "execution_count": null,
   "metadata": {},
   "outputs": [],
   "source": [
    "EX = [sp.ln, sp.exp, sp.sin, sp.cos, sp.tan]\n",
    "ARITHMETIC_OPS = [operator.add, operator.sub, operator.mul, operator.truediv]"
   ]
  },
  {
   "cell_type": "code",
   "execution_count": null,
   "metadata": {},
   "outputs": [],
   "source": [
    "def generate_inner_ex():\n",
    "    return random_poly(x, np.random.randint(2, 4), -10, 10)"
   ]
  },
  {
   "cell_type": "code",
   "execution_count": null,
   "metadata": {},
   "outputs": [],
   "source": [
    "def generate_final_function():\n",
    "    ex1, ex2 = list(map(lambda ex: np.random.choice([-1, 1]) * ex(generate_inner_ex()), np.random.choice(EX, 2, replace=False)))\n",
    "    return sp.sympify(np.random.choice(ARITHMETIC_OPS)(ex1, ex2))"
   ]
  },
  {
   "cell_type": "code",
   "execution_count": null,
   "metadata": {},
   "outputs": [],
   "source": [
    "# Restricting potential point values to not get crazy numbers.\n",
    "POINT_MIN = -1e8\n",
    "POINT_MAX = 1e8\n",
    "POINT_EPSILON = 1e-2"
   ]
  },
  {
   "cell_type": "code",
   "execution_count": null,
   "metadata": {},
   "outputs": [],
   "source": [
    "\"\"\"\n",
    "Safely rounds the expression to n decimal points\n",
    "(see: https://github.com/sympy/sympy/issues/21513).\n",
    "\"\"\"\n",
    "def safe_round(ex: sp.Expr, n):\n",
    "    return round(eval(f'{ex.evalf()}'), n)"
   ]
  },
  {
   "cell_type": "code",
   "execution_count": null,
   "metadata": {},
   "outputs": [],
   "source": [
    "\"\"\"\n",
    "Attempts to generate a random list of 3 points, lying within the domain of the given function.\n",
    "On failure, returns an empty list. \n",
    "\"\"\"\n",
    "def generate_points(f: sp.Expr):\n",
    "    def test(p):\n",
    "        res = f.subs(x, p) \n",
    "        return res.is_finite and res.is_real and POINT_MIN <= res <= POINT_MAX and abs(safe_round(res, 2)) >= POINT_EPSILON\n",
    "\n",
    "    points = []\n",
    "    \n",
    "    # First point is always an integer in [-10, 10].\n",
    "    first_points = [p for p in range(-10, 11)]\n",
    "    np.random.shuffle(first_points)\n",
    "\n",
    "    for p in first_points:\n",
    "        if test(p):\n",
    "            points.append(p)\n",
    "            break\n",
    "    else:\n",
    "        return []\n",
    "    \n",
    "    # 2 other points are of form: a + b*PI, b != 0\n",
    "    for point_count in range(2):\n",
    "        for attempt in range(100):\n",
    "            p = np.random.randint(-10, 11) + np.random.choice([-1, 1]) * np.random.randint(1, 11) * sp.pi\n",
    "            if test(p) and p not in points:\n",
    "                points.append(p)\n",
    "                break\n",
    "        else:\n",
    "            return []\n",
    "        \n",
    "    return points"
   ]
  },
  {
   "cell_type": "code",
   "execution_count": null,
   "metadata": {},
   "outputs": [],
   "source": [
    "\"\"\"\n",
    "Returns a pair of a function and 3 points, lying within the domain of it.\n",
    "\"\"\"\n",
    "def generate_final_function_and_points():\n",
    "    while True:\n",
    "        f = generate_final_function()\n",
    "        ps = generate_points(f)\n",
    "        if len(ps) > 0:\n",
    "            return f, ps"
   ]
  },
  {
   "cell_type": "code",
   "execution_count": null,
   "metadata": {},
   "outputs": [],
   "source": [
    "def solve(f: sp.Expr, points):\n",
    "    return [safe_round(f.subs(x, p), 2) for p in points]"
   ]
  },
  {
   "cell_type": "code",
   "execution_count": null,
   "metadata": {},
   "outputs": [],
   "source": [
    "DESCRIPTION = \"\"\"Вычислить значение функции $f$ с точностью до сотых в точках из списка $X$.\n",
    "Указание. Воспользуйтесь методом evalf() для получения приближенного значения. Значения $f$ в точках из списка $X$ выведите в виде списка.\"\"\"\n",
    "TASK = \"\"\"\\\\begin{{align*}}\n",
    "    f(x) = {f} && {ps_name} = {ps}\n",
    "\\\\end{{align*}}\"\"\"\n",
    "\n",
    "def format_tasks_and_solutions():\n",
    "    f, ps = generate_final_function_and_points()\n",
    "    f_latex = sp.latex(f)\n",
    "    return TASK.format(f = f_latex, ps_name = \"X\", ps = sp.latex(ps)), TASK.format(f = f_latex, ps_name = \"Solutions\", ps = sp.latex(solve(f, ps)))\n",
    "\n",
    "DOC = DocumentGenerator(lambda _: format_tasks_and_solutions(), DESCRIPTION)"
   ]
  },
  {
   "cell_type": "code",
   "execution_count": 64,
   "metadata": {},
   "outputs": [],
   "source": [
    "write_tasks_and_solutions(DOC, \"../out/tasks/task-1.tex\", \"../out/answers/answer-1.tex\", 150)"
   ]
  }
 ],
 "metadata": {
  "kernelspec": {
   "display_name": ".venv",
   "language": "python",
   "name": "python3"
  },
  "language_info": {
   "codemirror_mode": {
    "name": "ipython",
    "version": 3
   },
   "file_extension": ".py",
   "mimetype": "text/x-python",
   "name": "python",
   "nbconvert_exporter": "python",
   "pygments_lexer": "ipython3",
   "version": "3.11.3"
  },
  "orig_nbformat": 4
 },
 "nbformat": 4,
 "nbformat_minor": 2
}
