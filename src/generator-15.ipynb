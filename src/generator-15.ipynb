{
 "cells": [
  {
   "cell_type": "markdown",
   "metadata": {},
   "source": [
    "### Индивидуальное задание. Экстремум функции нескольких переменных\n",
    "#### Найти точки экстремума функции f(x, y, z)"
   ]
  },
  {
   "cell_type": "code",
   "execution_count": 3,
   "metadata": {},
   "outputs": [],
   "source": [
    "import numpy as np\n",
    "import sympy as sp"
   ]
  },
  {
   "cell_type": "code",
   "execution_count": 15,
   "metadata": {},
   "outputs": [],
   "source": [
    "%run document_generator.ipynb"
   ]
  },
  {
   "cell_type": "code",
   "execution_count": 4,
   "metadata": {},
   "outputs": [],
   "source": [
    "x, y, z = sp.symbols(\"x y z\", real=True)"
   ]
  },
  {
   "cell_type": "code",
   "execution_count": 41,
   "metadata": {},
   "outputs": [],
   "source": [
    "def generate_function() -> sp.Function:\n",
    "    return sp.sympify(sum(np.random.randint(-10, 11) * q for q in (x**2, y**2, z**2, x*y, x*z, y*z, x, y, z)))"
   ]
  },
  {
   "cell_type": "code",
   "execution_count": 14,
   "metadata": {},
   "outputs": [
    {
     "data": {
      "text/latex": [
       "$\\displaystyle - 6 x^{2} - 8 x y + 6 x z + 3 x - 4 y - 8 z^{2} + z$"
      ],
      "text/plain": [
       "-6*x**2 - 8*x*y + 6*x*z + 3*x - 4*y - 8*z**2 + z"
      ]
     },
     "execution_count": 14,
     "metadata": {},
     "output_type": "execute_result"
    }
   ],
   "source": [
    "TITLE = \"Индивидуальное задание. Экстремум функции нескольких переменных\"\n",
    "DESCRIPTION = \"Найти точки экстремума функции $f(x, y, z)$\"\n",
    "TASK = \"\"\"\\\\begin{{align*}}\n",
    "    f(x, y, z) = {f}\n",
    "\\\\end{{align*}}\"\"\"\n",
    "\n",
    "def variant_generator():\n",
    "    f = generate_function()\n",
    "    f_latex = sp.latex(f)\n",
    "    return TASK.format(f = f_latex, ps_name = \"X\", ps = sp.latex(ps)), TASK.format(f = f_latex, ps_name = \"Solutions\", ps = sp.latex(solve(f, ps)))\n",
    "\n",
    "DOC = DocumentGenerator(lambda _: variant_generator(), DESCRIPTION, title=TITLE)"
   ]
  }
 ],
 "metadata": {
  "kernelspec": {
   "display_name": ".venv",
   "language": "python",
   "name": "python3"
  },
  "language_info": {
   "codemirror_mode": {
    "name": "ipython",
    "version": 3
   },
   "file_extension": ".py",
   "mimetype": "text/x-python",
   "name": "python",
   "nbconvert_exporter": "python",
   "pygments_lexer": "ipython3",
   "version": "3.11.3"
  },
  "orig_nbformat": 4
 },
 "nbformat": 4,
 "nbformat_minor": 2
}
