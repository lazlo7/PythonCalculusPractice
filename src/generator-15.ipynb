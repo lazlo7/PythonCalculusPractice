{
 "cells": [
  {
   "cell_type": "markdown",
   "metadata": {},
   "source": [
    "### Индивидуальное задание. Экстремум функции нескольких переменных\n",
    "#### Найти точки экстремума функции f(x, y, z)"
   ]
  },
  {
   "cell_type": "code",
   "execution_count": 16,
   "metadata": {},
   "outputs": [],
   "source": [
    "import numpy as np\n",
    "import sympy as sp"
   ]
  },
  {
   "cell_type": "code",
   "execution_count": 17,
   "metadata": {},
   "outputs": [],
   "source": [
    "%run document_generator.ipynb"
   ]
  },
  {
   "cell_type": "code",
   "execution_count": 18,
   "metadata": {},
   "outputs": [],
   "source": [
    "x, y, z = sp.symbols(\"x y z\", real=True)"
   ]
  },
  {
   "cell_type": "code",
   "execution_count": 19,
   "metadata": {},
   "outputs": [],
   "source": [
    "def get_stationary_points(f: sp.Function):\n",
    "    return sp.nonlinsolve([f.diff(x), f.diff(y), f.diff(z)], [x, y, z])"
   ]
  },
  {
   "cell_type": "code",
   "execution_count": 20,
   "metadata": {},
   "outputs": [],
   "source": [
    "def generate_function() -> sp.Function:\n",
    "    # Restrict function to just one stationary point.\n",
    "    while True:\n",
    "        f = sp.sympify(sum(np.random.randint(-20, 21) * q for q in (x**2, y**2, z**2, x*y, x*z, y*z, x, y, z)))\n",
    "        if len(get_stationary_points(f).args) == 1:\n",
    "            return f"
   ]
  },
  {
   "cell_type": "code",
   "execution_count": 21,
   "metadata": {},
   "outputs": [],
   "source": [
    "def get_delta_matrix(f: sp.Function):\n",
    "    return sp.Matrix([[f.diff(x, 2), f.diff(x, y), f.diff(x, z)],\n",
    "                      [f.diff(y, x), f.diff(y, 2), f.diff(y, z)],\n",
    "                      [f.diff(z, x), f.diff(z, y), f.diff(z, 2)]]).det()"
   ]
  },
  {
   "cell_type": "code",
   "execution_count": 22,
   "metadata": {},
   "outputs": [],
   "source": [
    "\"\"\"\n",
    "Solves the problem. Input function is assumed to have only one stationary point.\n",
    "\"\"\"\n",
    "def solve(f: sp.Function):\n",
    "    stationary_ps = get_stationary_points(f).args\n",
    "    stationary_p, = stationary_ps\n",
    "    \n",
    "    x0, y0, z0 = stationary_p\n",
    "    assert x0.is_real and y0.is_real and z0.is_real, \"A stationary point is not real\"\n",
    "\n",
    "    delta_subbed = get_delta_matrix(f).subs({x: x0, y: y0, z: z0})\n",
    "\n",
    "    a = f.diff(x, 2).subs({x: x0, y: y0, z: z0})\n",
    "    b = f.diff(y, 2).subs({x: x0, y: y0, z: z0})\n",
    "    c = f.diff(z, 2).subs({x: x0, y: y0, z: z0})\n",
    "    \n",
    "    if a > 0 or b > 0 or c > 0:\n",
    "        return stationary_p, \"minimum\"\n",
    "    elif a < 0 or b < 0 or c < 0:\n",
    "        return stationary_p, \"maximum\" \n",
    "    \n",
    "    assert False, \"Unreachable\""
   ]
  },
  {
   "cell_type": "code",
   "execution_count": 23,
   "metadata": {},
   "outputs": [],
   "source": [
    "TITLE = \"Индивидуальное задание. Экстремум функции нескольких переменных\"\n",
    "DESCRIPTION = \"Найти точки экстремума функции $f(x, y, z)$\"\n",
    "\n",
    "TASK = \"\"\"\\\\begin{{align*}}\n",
    "    f(x, y, z) = {f}\n",
    "\\\\end{{align*}}\"\"\"\n",
    "\n",
    "SOLUTION = \"\"\"\\\\begin{{align*}}\n",
    "    f(x, y, z) = {f} && {ps} - {ps_type}\n",
    "\\\\end{{align*}}\n",
    "\"\"\""
   ]
  },
  {
   "cell_type": "code",
   "execution_count": 24,
   "metadata": {},
   "outputs": [],
   "source": [
    "def variant_generator():\n",
    "    f = generate_function()\n",
    "    ps, ps_type = solve(f)\n",
    "\n",
    "    f_latex = sp.latex(f)\n",
    "\n",
    "    return TASK.format(f = f_latex), SOLUTION.format(f = f_latex, ps = sp.latex(ps), ps_type = sp.latex(ps_type))\n",
    "\n",
    "DOC = DocumentGenerator(lambda _: variant_generator(), DESCRIPTION, title=TITLE)"
   ]
  },
  {
   "cell_type": "code",
   "execution_count": 25,
   "metadata": {},
   "outputs": [],
   "source": [
    "write_tasks_and_solutions(DOC, \"../out/tasks/task-15.tex\", \"../out/answers/answer-15.tex\", 150)"
   ]
  }
 ],
 "metadata": {
  "kernelspec": {
   "display_name": ".venv",
   "language": "python",
   "name": "python3"
  },
  "language_info": {
   "codemirror_mode": {
    "name": "ipython",
    "version": 3
   },
   "file_extension": ".py",
   "mimetype": "text/x-python",
   "name": "python",
   "nbconvert_exporter": "python",
   "pygments_lexer": "ipython3",
   "version": "3.11.3"
  },
  "orig_nbformat": 4
 },
 "nbformat": 4,
 "nbformat_minor": 2
}
